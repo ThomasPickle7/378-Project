{
 "cells": [
  {
   "cell_type": "markdown",
   "metadata": {},
   "source": [
    "# import statements"
   ]
  },
  {
   "cell_type": "code",
   "execution_count": 1,
   "metadata": {},
   "outputs": [],
   "source": [
    "import numpy as np\n",
    "import pandas as pd\n",
    "from glob import glob\n",
    "import librosa\n"
   ]
  },
  {
   "cell_type": "markdown",
   "metadata": {},
   "source": [
    "# Loading in raw input data"
   ]
  },
  {
   "cell_type": "code",
   "execution_count": 2,
   "metadata": {},
   "outputs": [],
   "source": [
    "# Load in the data from the specified directory\n",
    "train_files = glob('train/*')\n",
    "\n",
    "# Load the audio file using librosa\n",
    "# y = audio time series\n",
    "\n",
    "time_series = []\n",
    "#load the files from the directory\n",
    "for i in range(0, 1):\n",
    "    y, _ = librosa.load(train_files[i])\n",
    "    time_series.append(y)\n"
   ]
  },
  {
   "cell_type": "code",
   "execution_count": 3,
   "metadata": {},
   "outputs": [
    {
     "name": "stdout",
     "output_type": "stream",
     "text": [
      "[-0.02728271 -0.03622437 -0.04992676 ...  0.04800415  0.03561401\n",
      "  0.03475952]\n",
      "661504\n"
     ]
    }
   ],
   "source": [
    "# print(time_series)\n",
    "print(time_series[0])\n",
    "print(len(time_series[0]))\n",
    "# Method to break up data into smaller parts\n",
    "\n",
    "new_time_series = []\n",
    "new_labels = []\n",
    "train = pd.read_csv('train.csv')\n",
    "y_train = train['Genre']\n",
    "for index in range(len(time_series)):\n",
    "    for start_time in range(26):\n",
    "        new_time_series.append(time_series[index][start_time * 22050 : (start_time + 5) * 22050])\n",
    "        new_labels.append(y_train[index])\n",
    "\n"
   ]
  },
  {
   "cell_type": "markdown",
   "metadata": {},
   "source": [
    "# Basic feature extraction"
   ]
  },
  {
   "cell_type": "code",
   "execution_count": 11,
   "metadata": {},
   "outputs": [
    {
     "name": "stdout",
     "output_type": "stream",
     "text": [
      "1293\n"
     ]
    }
   ],
   "source": [
    "def extract_features(series):\n",
    "    \"\"\"\n",
    "    Uses Librosa to extract features from the time series.\n",
    "    series: list of floats\n",
    "    returns:\n",
    "    spectral_centroid: the center of mass of the spectrum\n",
    "    spectral rolloff: the frequency below which 85% of the magnitude distribution is concentrated\n",
    "    spectral bandwidth: the width of the band of frequencies\n",
    "    spectral contrast: the difference in amplitude between peaks and valleys in the spectrum\n",
    "    spectral flatness: the flatness of a signal\n",
    "    spectral rms: the root mean square of the signal\n",
    "    \"\"\"\n",
    "    sr = 22050\n",
    "    spectral_centroid = librosa.feature.spectral_centroid(y=series)\n",
    "    spectral_rolloff = librosa.feature.spectral_rolloff(y=series)\n",
    "    spectral_bandwidth = librosa.feature.spectral_bandwidth(y=series)\n",
    "    spectral_contrast = librosa.feature.spectral_contrast(y=series)\n",
    "    spectral_flatness = librosa.feature.spectral_flatness(y=series)\n",
    "    rms = librosa.feature.rms(y=series)\n",
    "    onset_env = librosa.onset.onset_strength(y=series, sr=sr)\n",
    "    tempo, beats = librosa.beat.beat_track(y =series, sr=sr)\n",
    "    beat_strengths = onset_env[beats]\n",
    "    key = librosa.feature.chroma_stft(y=series, sr=sr)\n",
    "\n",
    "    return spectral_centroid, spectral_rolloff, spectral_bandwidth, spectral_contrast, spectral_flatness, rms, tempo, beat_strengths, key\n",
    "\n",
    "centroids = []\n",
    "rolloffs = []\n",
    "bandwidths = []\n",
    "contrasts = []\n",
    "flatnesses = []\n",
    "rms = []\n",
    "tempos = []\n",
    "beat_strengths = []\n",
    "keys = []\n",
    "\n",
    "\n",
    "for i in range(0, len(time_series)):\n",
    "    spectral_centroid, spectral_rolloff, spectral_bandwidth, spectral_contrast, spectral_flatness, spectral_rms, tempo, beat_strength, key = extract_features(time_series[i])\n",
    "    centroids.append(spectral_centroid)\n",
    "    rolloffs.append(spectral_rolloff)\n",
    "    bandwidths.append(spectral_bandwidth)\n",
    "    contrasts.append(spectral_contrast)\n",
    "    flatnesses.append(spectral_flatness)\n",
    "    rms.append(spectral_rms)\n",
    "    tempos.append(tempo)\n",
    "    beat_strengths.append(beat_strength)\n",
    "    keys.append(key)\n",
    "\n",
    "#Print the size of the features\n",
    "print(len(rms[0][0]))\n",
    "\n"
   ]
  },
  {
   "cell_type": "code",
   "execution_count": 14,
   "metadata": {},
   "outputs": [],
   "source": [
    "def extract_MORE_features(series):\n",
    "    \"\"\"\n",
    "    Uses Librosa to extract features from the time series.\n",
    "    series: list of floats\n",
    "    returns:\n",
    "    zero_crossing_rate: the rate of sign changes in the signal\n",
    "    mfcc: Mel-frequency cepstral coefficients\n",
    "    \"\"\"\n",
    "    zero_rate = librosa.feature.zero_crossing_rate(y=series)\n",
    "    mfcc = librosa.feature.mfcc(y=series)\n",
    "\n",
    "\n",
    "    return zero_rate, mfcc\n",
    "\n",
    "zero_rates = []\n",
    "mfccs = []\n",
    "\n",
    "for i in range(0, len(time_series)):\n",
    "    zero_rate, mfcc = extract_MORE_features(time_series[i])\n",
    "    zero_rates.append(zero_rate)\n",
    "    mfccs.append(mfcc)\n"
   ]
  },
  {
   "cell_type": "code",
   "execution_count": 15,
   "metadata": {},
   "outputs": [
    {
     "name": "stdout",
     "output_type": "stream",
     "text": [
      "[[0.6870512  0.8685882  0.9635946  ... 0.37126568 0.51484257 0.59994495]\n",
      " [0.47481188 0.5558943  0.58297354 ... 0.44635394 0.43633562 0.44802457]\n",
      " [0.45623416 0.48858538 0.47255298 ... 0.46851033 0.4473988  0.49899974]\n",
      " ...\n",
      " [0.28546423 0.29619884 0.43726018 ... 0.23843835 0.6287394  0.7065811 ]\n",
      " [0.4030487  0.47109658 0.5946139  ... 0.19010578 0.47997636 0.5546902 ]\n",
      " [0.6411027  0.98321337 1.         ... 0.2709052  0.5394487  0.6598817 ]]\n"
     ]
    }
   ],
   "source": [
    "features =[centroids, rolloffs, bandwidths, contrasts, flatnesses, rms, tempos, beat_strengths, keys, zero_rates, mfccs]\n",
    "print(keys[0])\n"
   ]
  },
  {
   "cell_type": "markdown",
   "metadata": {},
   "source": [
    "# Export the Feature data"
   ]
  },
  {
   "cell_type": "code",
   "execution_count": 33,
   "metadata": {},
   "outputs": [],
   "source": [
    "def aggregate_features(features):\n",
    "    \"\"\"\n",
    "    stores the mean, standard deviation, max, and min of the features\n",
    "    \"\"\"\n",
    "    means = []\n",
    "    stds = []\n",
    "    maxs = []\n",
    "    mins = []\n",
    "    for feature in features:\n",
    "        means.append(np.mean(feature))\n",
    "        stds.append(np.std(feature))\n",
    "        maxs.append(np.max(feature))\n",
    "        mins.append(np.min(feature))\n",
    "    return means, stds, maxs, mins\n",
    "\n",
    "def save_features(features, filename):\n",
    "    \"\"\"\n",
    "    saves the features to a csv file\n",
    "    \"\"\"\n",
    "    df = pd.DataFrame({filename: features})\n",
    "    df.to_csv('features_test/' + filename + '.csv', index=False)"
   ]
  },
  {
   "cell_type": "code",
   "execution_count": 17,
   "metadata": {},
   "outputs": [],
   "source": [
    "aggregates = []\n",
    "for feature in features:\n",
    "    mean, std, max, min = aggregate_features(feature)\n",
    "    aggregates.append(mean)\n",
    "    aggregates.append(std)\n",
    "    aggregates.append(max)\n",
    "    aggregates.append(min)\n",
    "aggregates.append(tempos)\n",
    "feature_count = 0\n",
    "for aggregate in aggregates:\n",
    "    save_features(aggregate, 'feature_' + str(feature_count))\n",
    "    feature_count += 1\n",
    "\n"
   ]
  },
  {
   "cell_type": "code",
   "execution_count": 25,
   "metadata": {},
   "outputs": [],
   "source": [
    "def evenMOREfeatures(series):\n",
    "    \"\"\"\n",
    "    Uses Librosa to extract features from the time series.\n",
    "    series: list of floats\n",
    "    returns:\n",
    "    chroma: the chroma of the signal\n",
    "    \"\"\"\n",
    "    tonnetz = librosa.feature.tonnetz(y=series)\n",
    "    chroma = librosa.feature.chroma_stft(y=series)\n",
    "    harmonic, percussive = librosa.effects.hpss(y=series)\n",
    "    harmonic_chroma = librosa.feature.chroma_cqt(y=harmonic)\n",
    "    percussive_tempo, _ = librosa.beat.beat_track(y=percussive)\n",
    "\n",
    "    return tonnetz, chroma, harmonic_chroma, percussive_tempo\n",
    "\n",
    "tonnetzs = []\n",
    "chromas = []\n",
    "harmonic_chromas = []\n",
    "percussive_tempos = []\n",
    "\n",
    "for i in range(0, len(time_series)):\n",
    "    tonnetz, chroma, harmonic_chroma, percussive_tempo = evenMOREfeatures(time_series[i])\n",
    "    tonnetzs.append(tonnetz)\n",
    "    chromas.append(chroma)\n",
    "    harmonic_chromas.append(harmonic_chroma)\n",
    "    percussive_tempos.append(percussive_tempo)\n"
   ]
  },
  {
   "cell_type": "code",
   "execution_count": 26,
   "metadata": {},
   "outputs": [],
   "source": [
    "aggregate_more = []\n",
    "for feature in [tonnetzs, chromas, harmonic_chromas, percussive_tempos]:\n",
    "    mean, std, max, min = aggregate_features(feature)\n",
    "    aggregate_more.append(mean)\n",
    "    aggregate_more.append(std)\n",
    "    aggregate_more.append(max)\n",
    "    aggregate_more.append(min)\n",
    "    \n",
    "for aggregate in aggregate_more:\n",
    "    save_features(aggregate, 'feature_' + str(i))\n",
    "    feature_count += 1\n"
   ]
  },
  {
   "cell_type": "code",
   "execution_count": 34,
   "metadata": {},
   "outputs": [],
   "source": [
    "def more_features(series):\n",
    "    \"\"\"\n",
    "    Uses Librosa to extract features from the time series.\n",
    "    series: list of floats\n",
    "    returns:\n",
    "    mfcc_delta: the change in mfcc\n",
    "    \"\"\"\n",
    "    mfcc_delta = librosa.feature.delta(librosa.feature.mfcc(y=series))\n",
    "\n",
    "    return mfcc_delta\n",
    "\n",
    "mfcc_deltas = []\n",
    "\n",
    "for i in range(0, len(time_series)):\n",
    "    mfcc_delta = more_features(time_series[i])\n",
    "    mfcc_deltas.append(mfcc_delta)\n",
    "\n",
    "aggregate_mfcc_delta = []\n",
    "for feature in [mfcc_deltas]:\n",
    "    mean, std, max, min = aggregate_features(feature)\n",
    "    aggregate_mfcc_delta.append(mean)\n",
    "    aggregate_mfcc_delta.append(std)\n",
    "    aggregate_mfcc_delta.append(max)\n",
    "    aggregate_mfcc_delta.append(min)\n",
    "feature_count = 61\n",
    "for aggregate in aggregate_mfcc_delta:\n",
    "    save_features(aggregate, 'feature_' + str(feature_count))\n",
    "    feature_count += 1"
   ]
  }
 ],
 "metadata": {
  "kernelspec": {
   "display_name": "Python 3",
   "language": "python",
   "name": "python3"
  },
  "language_info": {
   "codemirror_mode": {
    "name": "ipython",
    "version": 3
   },
   "file_extension": ".py",
   "mimetype": "text/x-python",
   "name": "python",
   "nbconvert_exporter": "python",
   "pygments_lexer": "ipython3",
   "version": "3.11.9"
  }
 },
 "nbformat": 4,
 "nbformat_minor": 2
}
