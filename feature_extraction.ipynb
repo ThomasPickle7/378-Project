{
 "cells": [
  {
   "cell_type": "markdown",
   "metadata": {},
   "source": [
    "# import statements"
   ]
  },
  {
   "cell_type": "code",
   "execution_count": 1,
   "metadata": {},
   "outputs": [],
   "source": [
    "import numpy as np\n",
    "import pandas as pd\n",
    "from glob import glob\n",
    "import librosa\n"
   ]
  },
  {
   "cell_type": "markdown",
   "metadata": {},
   "source": [
    "# Loading in raw input data"
   ]
  },
  {
   "cell_type": "code",
   "execution_count": 7,
   "metadata": {},
   "outputs": [],
   "source": [
    "# Load in the data from the specified directory\n",
    "train_files = glob('train/*')\n",
    "\n",
    "# Load the audio file using librosa\n",
    "# y = audio time series\n",
    "\n",
    "time_series = []\n",
    "#load the files from the directory\n",
    "for i in range(0, 800):\n",
    "    y, _ = librosa.load(train_files[i])\n",
    "    time_series.append(y)\n"
   ]
  },
  {
   "cell_type": "markdown",
   "metadata": {},
   "source": [
    "# Basic feature extraction"
   ]
  },
  {
   "cell_type": "code",
   "execution_count": 3,
   "metadata": {},
   "outputs": [],
   "source": [
    "def extract_features(series):\n",
    "    \"\"\"\n",
    "    Uses Librosa to extract features from the time series.\n",
    "    series: list of floats\n",
    "    returns:\n",
    "    spectral_centroid: the center of mass of the spectrum\n",
    "    spectral rolloff: the frequency below which 85% of the magnitude distribution is concentrated\n",
    "    spectral bandwidth: the width of the band of frequencies\n",
    "    spectral contrast: the difference in amplitude between peaks and valleys in the spectrum\n",
    "    spectral flatness: the flatness of a signal\n",
    "    spectral rms: the root mean square of the signal\n",
    "    \"\"\"\n",
    "    sr = 22050\n",
    "    spectral_centroid = librosa.feature.spectral_centroid(y=series)\n",
    "    spectral_rolloff = librosa.feature.spectral_rolloff(y=series)\n",
    "    spectral_bandwidth = librosa.feature.spectral_bandwidth(y=series)\n",
    "    spectral_contrast = librosa.feature.spectral_contrast(y=series)\n",
    "    spectral_flatness = librosa.feature.spectral_flatness(y=series)\n",
    "    rms = librosa.feature.rms(y=series)\n",
    "    onset_env = librosa.onset.onset_strength(y=series, sr=sr)\n",
    "    tempo, beats = librosa.beat.beat_track(y =series, sr=sr)\n",
    "    beat_strengths = onset_env[beats]\n",
    "    key = librosa.feature.chroma_stft(y=series, sr=sr)\n",
    "\n",
    "    return spectral_centroid, spectral_rolloff, spectral_bandwidth, spectral_contrast, spectral_flatness, rms, tempo, beat_strengths, key\n",
    "\n",
    "centroids = []\n",
    "rolloffs = []\n",
    "bandwidths = []\n",
    "contrasts = []\n",
    "flatnesses = []\n",
    "rms = []\n",
    "tempos = []\n",
    "beat_strengths = []\n",
    "keys = []\n",
    "\n",
    "\n",
    "for i in range(0, len(time_series)):\n",
    "    spectral_centroid, spectral_rolloff, spectral_bandwidth, spectral_contrast, spectral_flatness, spectral_rms, tempo, beat_strength, key = extract_features(time_series[i])\n",
    "    centroids.append(spectral_centroid)\n",
    "    rolloffs.append(spectral_rolloff)\n",
    "    bandwidths.append(spectral_bandwidth)\n",
    "    contrasts.append(spectral_contrast)\n",
    "    flatnesses.append(spectral_flatness)\n",
    "    rms.append(spectral_rms)\n",
    "    tempos.append(tempo)\n",
    "    beat_strengths.append(beat_strength)\n",
    "    keys.append(key)\n",
    "\n",
    "\n"
   ]
  },
  {
   "cell_type": "code",
   "execution_count": null,
   "metadata": {},
   "outputs": [],
   "source": [
    "def extract_MORE_features()"
   ]
  },
  {
   "cell_type": "code",
   "execution_count": 4,
   "metadata": {},
   "outputs": [
    {
     "name": "stdout",
     "output_type": "stream",
     "text": [
      "[[0.6202782  0.28463265 0.52313125 ... 0.48861602 0.4922129  0.32770872]\n",
      " [0.79212254 0.30917493 0.5053827  ... 0.236012   0.45460925 0.4201854 ]\n",
      " [1.         0.43742636 0.6827227  ... 0.2439473  0.6008393  0.7393849 ]\n",
      " ...\n",
      " [0.70094    0.56869745 0.61966157 ... 0.8171984  0.2146829  0.15337887]\n",
      " [0.5535064  0.41045326 0.62554777 ... 1.         0.45614347 0.3133688 ]\n",
      " [0.9245443  0.4391839  0.61112124 ... 0.7873888  0.59380823 0.46977058]]\n"
     ]
    }
   ],
   "source": [
    "features =[centroids, rolloffs, bandwidths, contrasts, flatnesses, rms, tempos, beat_strengths, keys]\n",
    "print(keys[0])\n"
   ]
  },
  {
   "cell_type": "markdown",
   "metadata": {},
   "source": [
    "# Export the Feature data"
   ]
  },
  {
   "cell_type": "code",
   "execution_count": 5,
   "metadata": {},
   "outputs": [],
   "source": [
    "def aggregate_features(features):\n",
    "    \"\"\"\n",
    "    stores the mean, standard deviation, max, and min of the features\n",
    "    \"\"\"\n",
    "    means = []\n",
    "    stds = []\n",
    "    maxs = []\n",
    "    mins = []\n",
    "    for feature in features:\n",
    "        means.append(np.mean(feature))\n",
    "        stds.append(np.std(feature))\n",
    "        maxs.append(np.max(feature))\n",
    "        mins.append(np.min(feature))\n",
    "    return means, stds, maxs, mins\n",
    "\n",
    "def save_features(features, filename):\n",
    "    \"\"\"\n",
    "    saves the features to a csv file\n",
    "    \"\"\"\n",
    "    df = pd.DataFrame({filename: features})\n",
    "    df.to_csv('features_train/' + filename + '.csv', index=False)"
   ]
  },
  {
   "cell_type": "code",
   "execution_count": 6,
   "metadata": {},
   "outputs": [],
   "source": [
    "aggregates = []\n",
    "for feature in features:\n",
    "    mean, std, max, min = aggregate_features(feature)\n",
    "    aggregates.append(mean)\n",
    "    aggregates.append(std)\n",
    "    aggregates.append(max)\n",
    "    aggregates.append(min)\n",
    "aggregates.append(tempos)\n",
    "i = 0\n",
    "for aggregate in aggregates:\n",
    "    save_features(aggregate, 'feature_' + str(i))\n",
    "    i += 1\n",
    "\n"
   ]
  }
 ],
 "metadata": {
  "kernelspec": {
   "display_name": "Python 3",
   "language": "python",
   "name": "python3"
  },
  "language_info": {
   "codemirror_mode": {
    "name": "ipython",
    "version": 3
   },
   "file_extension": ".py",
   "mimetype": "text/x-python",
   "name": "python",
   "nbconvert_exporter": "python",
   "pygments_lexer": "ipython3",
   "version": "3.11.9"
  }
 },
 "nbformat": 4,
 "nbformat_minor": 2
}
