{
 "cells": [
  {
   "cell_type": "markdown",
   "metadata": {},
   "source": [
    "# Load in extracted features"
   ]
  },
  {
   "cell_type": "code",
   "execution_count": 10,
   "metadata": {},
   "outputs": [
    {
     "name": "stdout",
     "output_type": "stream",
     "text": [
      "(799,)\n",
      "(799, 25)\n",
      "Accuracy: 0.7396745932415519\n"
     ]
    }
   ],
   "source": [
    "# open the every file in a directory and print the first line of each file\n",
    "import os\n",
    "import sys\n",
    "import numpy as np\n",
    "import pandas as pd\n",
    "from sklearn import preprocessing\n",
    "features = np.array([])\n",
    "for file in os.listdir('features'):\n",
    "    with open('features/' + file) as f:\n",
    "        df = pd.read_csv(f)\n",
    "        features = np.column_stack((features, df.values)) if features.size else df.values\n",
    "train = pd.read_csv('train.csv')\n",
    "# get only the column with the labels\n",
    "y_train = train['Genre']\n",
    "print(y_train.shape)\n",
    "# append labels to the features\n",
    "features_train= features\n",
    "print(features.shape)\n",
    "\n",
    "# normalize the data\n",
    "features_train = preprocessing.scale(features_train)\n",
    "\n",
    "\n",
    "# train the data on logistic regression using sklearn\n",
    "from sklearn.linear_model import LogisticRegression\n",
    "logreg = LogisticRegression(max_iter=1000)\n",
    "logreg.fit(features_train, y_train)\n",
    "\n",
    "predictions = logreg.predict(features_train)\n",
    "\n",
    "from sklearn.metrics import accuracy_score\n",
    "\n",
    "# Assuming 'y_train' are the true labels and 'predictions' are the predicted labels\n",
    "\n",
    "# Calculate the accuracy\n",
    "accuracy = accuracy_score(y_train, predictions)\n",
    "\n",
    "print(\"Accuracy:\", accuracy)\n",
    "\n",
    "# save the model to disk\n",
    "import pickle\n",
    "filename = 'finalized_model.sav'\n",
    "pickle.dump(logreg, open(filename, 'wb'))\n",
    "\n",
    "# load the model from disk\n",
    "loaded_model = pickle.load(open(filename, 'rb'))\n",
    "result = loaded_model.score(features_train, y_train)\n",
    "\n",
    "\n",
    "\n",
    "\n",
    "\n"
   ]
  }
 ],
 "metadata": {
  "kernelspec": {
   "display_name": "Python 3",
   "language": "python",
   "name": "python3"
  },
  "language_info": {
   "codemirror_mode": {
    "name": "ipython",
    "version": 3
   },
   "file_extension": ".py",
   "mimetype": "text/x-python",
   "name": "python",
   "nbconvert_exporter": "python",
   "pygments_lexer": "ipython3",
   "version": "3.11.9"
  }
 },
 "nbformat": 4,
 "nbformat_minor": 2
}
