{
 "cells": [
  {
   "cell_type": "markdown",
   "metadata": {},
   "source": [
    "# Load in extracted features"
   ]
  },
  {
   "cell_type": "code",
   "execution_count": 80,
   "metadata": {},
   "outputs": [],
   "source": [
    "# open the every file in a directory and print the first line of each file\n",
    "import os\n",
    "import sys\n",
    "import numpy as np\n",
    "import pandas as pd\n",
    "from sklearn import preprocessing\n",
    "from sklearn.metrics import accuracy_score\n",
    "from sklearn.metrics import r2_score\n",
    "from sklearn.linear_model import LogisticRegression\n",
    "from sklearn.linear_model import BayesianRidge\n",
    "from sklearn.linear_model import LinearRegression\n",
    "from sklearn.preprocessing import LabelEncoder\n"
   ]
  },
  {
   "cell_type": "code",
   "execution_count": 96,
   "metadata": {},
   "outputs": [],
   "source": [
    "# load in the features\n",
    "features_train = np.array([])\n",
    "for file in os.listdir('features_train'):\n",
    "    with open('features_train/' + file) as f:\n",
    "        df = pd.read_csv(f)\n",
    "        features_train = np.column_stack((features_train, df.values)) if features_train.size else df.values\n",
    "\n",
    "# load the labels\n",
    "train = pd.read_csv('train.csv')\n",
    "y_train = train['Genre']\n",
    "label_encoder = LabelEncoder()\n",
    "y_train = label_encoder.fit_transform(y_train)\n",
    "# normalize the data\n",
    "features_train = preprocessing.scale(features_train)"
   ]
  },
  {
   "cell_type": "markdown",
   "metadata": {},
   "source": [
    "# Load in test Data\n"
   ]
  },
  {
   "cell_type": "code",
   "execution_count": 106,
   "metadata": {},
   "outputs": [],
   "source": [
    "features_test = np.array([])\n",
    "for file in os.listdir('features_test'):\n",
    "    with open('features_test/' + file) as f:\n",
    "        df = pd.read_csv(f)\n",
    "        features_test = np.column_stack((features_test, df.values)) if features_test.size else df.values\n",
    "\n",
    "# scale the test data\n",
    "features_test = preprocessing.scale(features_test)\n"
   ]
  },
  {
   "cell_type": "markdown",
   "metadata": {},
   "source": [
    "# Logistic Regression"
   ]
  },
  {
   "cell_type": "code",
   "execution_count": 107,
   "metadata": {},
   "outputs": [
    {
     "name": "stdout",
     "output_type": "stream",
     "text": [
      "Logistic Regression accuracy: 0.8072590738423029\n"
     ]
    }
   ],
   "source": [
    "\n",
    "logreg = LogisticRegression(max_iter=150)\n",
    "logreg.fit(features_train, y_train)\n",
    "predictions = logreg.predict(features_train)\n",
    "# Calculate the accuracy\n",
    "accuracy = accuracy_score(y_train, predictions)\n",
    "print(\"Logistic Regression accuracy:\", accuracy)\n"
   ]
  },
  {
   "cell_type": "markdown",
   "metadata": {},
   "source": [
    "# Predict with Logistic Regression and save to CSV"
   ]
  },
  {
   "cell_type": "code",
   "execution_count": 109,
   "metadata": {},
   "outputs": [],
   "source": [
    "\n",
    "# run the model on the test data\n",
    "predictions = logreg.predict(features_test)\n",
    "predictions = label_encoder.inverse_transform(predictions)\n",
    "# save the predictions to a csv file\n",
    "df = pd.DataFrame({'ID': os.listdir('test'), 'genre': predictions})\n",
    "df.to_csv('predictions.csv', index=False)"
   ]
  },
  {
   "cell_type": "markdown",
   "metadata": {},
   "source": [
    "# Neural Network"
   ]
  },
  {
   "cell_type": "code",
   "execution_count": 116,
   "metadata": {},
   "outputs": [
    {
     "name": "stdout",
     "output_type": "stream",
     "text": [
      "Epoch 1/50\n"
     ]
    },
    {
     "name": "stdout",
     "output_type": "stream",
     "text": [
      "40/40 [==============================] - 0s 1ms/step - loss: 3.2872 - accuracy: 0.1289 \n",
      "Epoch 2/50\n",
      "40/40 [==============================] - 0s 974us/step - loss: 2.3155 - accuracy: 0.3579\n",
      "Epoch 3/50\n",
      "40/40 [==============================] - 0s 863us/step - loss: 1.7109 - accuracy: 0.4355\n",
      "Epoch 4/50\n",
      "40/40 [==============================] - 0s 876us/step - loss: 1.4421 - accuracy: 0.5144\n",
      "Epoch 5/50\n",
      "40/40 [==============================] - 0s 988us/step - loss: 1.2871 - accuracy: 0.5569\n",
      "Epoch 6/50\n",
      "40/40 [==============================] - 0s 888us/step - loss: 1.1848 - accuracy: 0.6058\n",
      "Epoch 7/50\n",
      "40/40 [==============================] - 0s 873us/step - loss: 1.1031 - accuracy: 0.6245\n",
      "Epoch 8/50\n",
      "40/40 [==============================] - 0s 894us/step - loss: 1.0505 - accuracy: 0.6446\n",
      "Epoch 9/50\n",
      "40/40 [==============================] - 0s 926us/step - loss: 0.9918 - accuracy: 0.6583\n",
      "Epoch 10/50\n",
      "40/40 [==============================] - 0s 977us/step - loss: 0.9463 - accuracy: 0.6596\n",
      "Epoch 11/50\n",
      "40/40 [==============================] - 0s 991us/step - loss: 0.9065 - accuracy: 0.6671\n",
      "Epoch 12/50\n",
      "40/40 [==============================] - 0s 901us/step - loss: 0.8713 - accuracy: 0.6884\n",
      "Epoch 13/50\n",
      "40/40 [==============================] - 0s 932us/step - loss: 0.8415 - accuracy: 0.7046\n",
      "Epoch 14/50\n",
      "40/40 [==============================] - 0s 986us/step - loss: 0.8123 - accuracy: 0.7196\n",
      "Epoch 15/50\n",
      "40/40 [==============================] - 0s 868us/step - loss: 0.7913 - accuracy: 0.7259\n",
      "Epoch 16/50\n",
      "40/40 [==============================] - 0s 923us/step - loss: 0.7640 - accuracy: 0.7372\n",
      "Epoch 17/50\n",
      "40/40 [==============================] - 0s 965us/step - loss: 0.7407 - accuracy: 0.7422\n",
      "Epoch 18/50\n",
      "40/40 [==============================] - 0s 957us/step - loss: 0.7215 - accuracy: 0.7497\n",
      "Epoch 19/50\n",
      "40/40 [==============================] - 0s 989us/step - loss: 0.7068 - accuracy: 0.7472\n",
      "Epoch 20/50\n",
      "40/40 [==============================] - 0s 863us/step - loss: 0.6902 - accuracy: 0.7397\n",
      "Epoch 21/50\n",
      "40/40 [==============================] - 0s 904us/step - loss: 0.6649 - accuracy: 0.7622\n",
      "Epoch 22/50\n",
      "40/40 [==============================] - 0s 999us/step - loss: 0.6565 - accuracy: 0.7672\n",
      "Epoch 23/50\n",
      "40/40 [==============================] - 0s 851us/step - loss: 0.6436 - accuracy: 0.7672\n",
      "Epoch 24/50\n",
      "40/40 [==============================] - 0s 1ms/step - loss: 0.6246 - accuracy: 0.7735\n",
      "Epoch 25/50\n",
      "40/40 [==============================] - 0s 869us/step - loss: 0.6108 - accuracy: 0.7960\n",
      "Epoch 26/50\n",
      "40/40 [==============================] - 0s 965us/step - loss: 0.6010 - accuracy: 0.7847\n",
      "Epoch 27/50\n",
      "40/40 [==============================] - 0s 878us/step - loss: 0.5916 - accuracy: 0.7897\n",
      "Epoch 28/50\n",
      "40/40 [==============================] - 0s 717us/step - loss: 0.5745 - accuracy: 0.7985\n",
      "Epoch 29/50\n",
      "40/40 [==============================] - 0s 871us/step - loss: 0.5661 - accuracy: 0.8048\n",
      "Epoch 30/50\n",
      "40/40 [==============================] - 0s 772us/step - loss: 0.5507 - accuracy: 0.7997\n",
      "Epoch 31/50\n",
      "40/40 [==============================] - 0s 1ms/step - loss: 0.5401 - accuracy: 0.7985\n",
      "Epoch 32/50\n",
      "40/40 [==============================] - 0s 825us/step - loss: 0.5254 - accuracy: 0.8073\n",
      "Epoch 33/50\n",
      "40/40 [==============================] - 0s 774us/step - loss: 0.5195 - accuracy: 0.8185\n",
      "Epoch 34/50\n",
      "40/40 [==============================] - 0s 854us/step - loss: 0.5072 - accuracy: 0.8173\n",
      "Epoch 35/50\n",
      "40/40 [==============================] - 0s 862us/step - loss: 0.5008 - accuracy: 0.8273\n",
      "Epoch 36/50\n",
      "40/40 [==============================] - 0s 1ms/step - loss: 0.4948 - accuracy: 0.8185\n",
      "Epoch 37/50\n",
      "40/40 [==============================] - 0s 849us/step - loss: 0.4834 - accuracy: 0.8235\n",
      "Epoch 38/50\n",
      "40/40 [==============================] - 0s 853us/step - loss: 0.4723 - accuracy: 0.8310\n",
      "Epoch 39/50\n",
      "40/40 [==============================] - 0s 781us/step - loss: 0.4598 - accuracy: 0.8310\n",
      "Epoch 40/50\n",
      "40/40 [==============================] - 0s 996us/step - loss: 0.4500 - accuracy: 0.8360\n",
      "Epoch 41/50\n",
      "40/40 [==============================] - 0s 881us/step - loss: 0.4432 - accuracy: 0.8436\n",
      "Epoch 42/50\n",
      "40/40 [==============================] - 0s 824us/step - loss: 0.4337 - accuracy: 0.8448\n",
      "Epoch 43/50\n",
      "40/40 [==============================] - 0s 858us/step - loss: 0.4273 - accuracy: 0.8486\n",
      "Epoch 44/50\n",
      "40/40 [==============================] - 0s 877us/step - loss: 0.4202 - accuracy: 0.8598\n",
      "Epoch 45/50\n",
      "40/40 [==============================] - 0s 1ms/step - loss: 0.4091 - accuracy: 0.8598\n",
      "Epoch 46/50\n",
      "40/40 [==============================] - 0s 856us/step - loss: 0.4041 - accuracy: 0.8711\n",
      "Epoch 47/50\n",
      "40/40 [==============================] - 0s 1ms/step - loss: 0.3962 - accuracy: 0.8673\n",
      "Epoch 48/50\n",
      "40/40 [==============================] - 0s 927us/step - loss: 0.3852 - accuracy: 0.8748\n",
      "Epoch 49/50\n",
      "40/40 [==============================] - 0s 859us/step - loss: 0.3761 - accuracy: 0.8861\n",
      "Epoch 50/50\n",
      "40/40 [==============================] - 0s 855us/step - loss: 0.3695 - accuracy: 0.8849\n",
      "25/25 [==============================] - 0s 869us/step - loss: 0.3478 - accuracy: 0.8899\n",
      "Neural Network accuracy: 0.8898622989654541\n"
     ]
    }
   ],
   "source": [
    "from tensorflow.keras.models import Sequential\n",
    "from tensorflow.keras.layers import Dense\n",
    "\n",
    "model = Sequential()\n",
    "model.add(Dense(37, activation='relu', input_shape = (37,)))\n",
    "\n",
    "model.add(Dense(37, activation='relu'))\n",
    "\n",
    "model.add(Dense(37, activation='softmax'))\n",
    "\n",
    "model.compile(optimizer='adam', loss='sparse_categorical_crossentropy', metrics=['accuracy'])\n",
    "\n",
    "model.fit(features_train, y_train, epochs=50, batch_size=20)\n",
    "\n",
    "loss, accuracy = model.evaluate(features_train, y_train)\n",
    "print('Neural Network accuracy:', accuracy)"
   ]
  },
  {
   "cell_type": "markdown",
   "metadata": {},
   "source": [
    "# Predict with Neural Network and save to CSV"
   ]
  },
  {
   "cell_type": "code",
   "execution_count": 117,
   "metadata": {},
   "outputs": [
    {
     "name": "stdout",
     "output_type": "stream",
     "text": [
      "7/7 [==============================] - 0s 0s/step\n"
     ]
    },
    {
     "name": "stdout",
     "output_type": "stream",
     "text": [
      "['hiphop' 'pop' 'country' 'metal' 'disco' 'rock' 'hiphop' 'classical'\n",
      " 'blues' 'blues' 'country' 'metal' 'hiphop' 'disco' 'blues' 'blues'\n",
      " 'metal' 'disco' 'pop' 'hiphop' 'jazz' 'hiphop' 'classical' 'hiphop'\n",
      " 'rock' 'classical' 'country' 'disco' 'rock' 'disco' 'jazz' 'classical'\n",
      " 'jazz' 'jazz' 'disco' 'pop' 'hiphop' 'jazz' 'jazz' 'country' 'pop'\n",
      " 'metal' 'country' 'pop' 'jazz' 'disco' 'country' 'pop' 'country' 'disco'\n",
      " 'disco' 'hiphop' 'reggae' 'pop' 'hiphop' 'reggae' 'pop' 'rock' 'hiphop'\n",
      " 'country' 'classical' 'country' 'country' 'country' 'hiphop' 'metal'\n",
      " 'pop' 'jazz' 'disco' 'metal' 'rock' 'hiphop' 'classical' 'metal'\n",
      " 'country' 'reggae' 'disco' 'jazz' 'rock' 'disco' 'pop' 'disco' 'reggae'\n",
      " 'country' 'classical' 'rock' 'classical' 'disco' 'blues' 'hiphop'\n",
      " 'reggae' 'jazz' 'country' 'metal' 'blues' 'classical' 'disco' 'country'\n",
      " 'disco' 'disco' 'blues' 'country' 'pop' 'metal' 'classical' 'pop' 'disco'\n",
      " 'country' 'disco' 'jazz' 'rock' 'country' 'disco' 'classical' 'country'\n",
      " 'reggae' 'jazz' 'metal' 'rock' 'jazz' 'disco' 'jazz' 'disco' 'hiphop'\n",
      " 'classical' 'jazz' 'hiphop' 'blues' 'metal' 'classical' 'jazz' 'reggae'\n",
      " 'rock' 'reggae' 'disco' 'rock' 'hiphop' 'metal' 'metal' 'jazz' 'metal'\n",
      " 'jazz' 'reggae' 'rock' 'rock' 'reggae' 'blues' 'disco' 'rock' 'disco'\n",
      " 'jazz' 'jazz' 'hiphop' 'jazz' 'metal' 'disco' 'hiphop' 'jazz' 'rock'\n",
      " 'country' 'pop' 'classical' 'hiphop' 'country' 'blues' 'disco' 'blues'\n",
      " 'jazz' 'jazz' 'rock' 'pop' 'pop' 'jazz' 'metal' 'jazz' 'country' 'rock'\n",
      " 'blues' 'metal' 'disco' 'rock' 'disco' 'blues' 'jazz' 'hiphop' 'reggae'\n",
      " 'disco' 'country' 'blues' 'rock' 'reggae' 'disco' 'metal' 'pop' 'blues'\n",
      " 'jazz' 'classical' 'country' 'metal' 'disco']\n"
     ]
    }
   ],
   "source": [
    "predictions = model.predict(features_test)\n",
    "predictions = np.argmax(predictions, axis=1)\n",
    "predictions = label_encoder.inverse_transform(predictions)\n",
    "\n",
    "print(predictions)\n",
    "\n",
    "df = pd.DataFrame({'ID': os.listdir('test'), 'genre': predictions})\n",
    "df.to_csv('predictions.csv', index=False)"
   ]
  }
 ],
 "metadata": {
  "kernelspec": {
   "display_name": "Python 3",
   "language": "python",
   "name": "python3"
  },
  "language_info": {
   "codemirror_mode": {
    "name": "ipython",
    "version": 3
   },
   "file_extension": ".py",
   "mimetype": "text/x-python",
   "name": "python",
   "nbconvert_exporter": "python",
   "pygments_lexer": "ipython3",
   "version": "3.11.9"
  }
 },
 "nbformat": 4,
 "nbformat_minor": 2
}
