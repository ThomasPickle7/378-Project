{
 "cells": [
  {
   "cell_type": "markdown",
   "metadata": {},
   "source": [
    "# Load in extracted features"
   ]
  },
  {
   "cell_type": "code",
   "execution_count": 12,
   "metadata": {},
   "outputs": [
    {
     "name": "stdout",
     "output_type": "stream",
     "text": [
      "Accuracy: 0.7396745932415519\n"
     ]
    }
   ],
   "source": [
    "# open the every file in a directory and print the first line of each file\n",
    "import os\n",
    "import sys\n",
    "import numpy as np\n",
    "import pandas as pd\n",
    "from sklearn import preprocessing\n",
    "\n",
    "\n",
    "features_train = np.array([])\n",
    "for file in os.listdir('features_train'):\n",
    "    with open('features_train/' + file) as f:\n",
    "        df = pd.read_csv(f)\n",
    "        features_train = np.column_stack((features_train, df.values)) if features_train.size else df.values\n",
    "train = pd.read_csv('train.csv')\n",
    "# get only the column with the labels\n",
    "y_train = train['Genre']\n",
    "# normalize the data\n",
    "features_train = preprocessing.scale(features_train)\n",
    "\n",
    "\n",
    "# train the data on logistic regression using sklearn\n",
    "from sklearn.linear_model import LogisticRegression\n",
    "logreg = LogisticRegression(max_iter=1000)\n",
    "logreg.fit(features_train, y_train)\n",
    "\n",
    "predictions = logreg.predict(features_train)\n",
    "\n",
    "from sklearn.metrics import accuracy_score\n",
    "\n",
    "# Assuming 'y_train' are the true labels and 'predictions' are the predicted labels\n",
    "\n",
    "# Calculate the accuracy\n",
    "accuracy = accuracy_score(y_train, predictions)\n",
    "\n",
    "print(\"Accuracy:\", accuracy)\n",
    "\n",
    "# save the model to disk\n",
    "import pickle\n",
    "filename = 'finalized_model.sav'\n",
    "pickle.dump(logreg, open(filename, 'wb'))\n",
    "\n",
    "# load the model from disk\n",
    "loaded_model = pickle.load(open(filename, 'rb'))\n",
    "result = loaded_model.score(features_train, y_train)\n",
    "\n",
    "# load in the test data\n",
    "\n",
    "features_test = np.array([])\n",
    "for file in os.listdir('features_test'):\n",
    "    with open('features_test/' + file) as f:\n",
    "        df = pd.read_csv(f)\n",
    "        features_test = np.column_stack((features_test, df.values)) if features_test.size else df.values\n",
    "\n",
    "features_test = preprocessing.scale(features_test)\n",
    "\n",
    "predictions = logreg.predict(features_test)\n",
    "\n",
    "# save the predictions to a csv file\n",
    "np.savetxt('predictions.csv', predictions, delimiter=',', fmt='%s')\n",
    "\n",
    "\n",
    "\n",
    "\n",
    "\n",
    "\n"
   ]
  }
 ],
 "metadata": {
  "kernelspec": {
   "display_name": "Python 3",
   "language": "python",
   "name": "python3"
  },
  "language_info": {
   "codemirror_mode": {
    "name": "ipython",
    "version": 3
   },
   "file_extension": ".py",
   "mimetype": "text/x-python",
   "name": "python",
   "nbconvert_exporter": "python",
   "pygments_lexer": "ipython3",
   "version": "3.11.9"
  }
 },
 "nbformat": 4,
 "nbformat_minor": 2
}
