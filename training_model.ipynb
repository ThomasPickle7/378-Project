{
 "cells": [
  {
   "cell_type": "markdown",
   "metadata": {},
   "source": [
    "# Load in extracted features"
   ]
  },
  {
   "cell_type": "code",
   "execution_count": 4,
   "metadata": {},
   "outputs": [],
   "source": [
    "# open the every file in a directory and print the first line of each file\n",
    "import os\n",
    "import sys\n",
    "import numpy as np\n",
    "import pandas as pd\n",
    "from sklearn import preprocessing\n",
    "from sklearn.metrics import accuracy_score\n",
    "from sklearn.linear_model import LogisticRegression\n",
    "from sklearn.preprocessing import LabelEncoder\n",
    "from tensorflow.keras.models import Sequential\n",
    "from tensorflow.keras.layers import Dense\n",
    "from sklearn.ensemble import RandomForestClassifier\n",
    "from sklearn.model_selection import RandomizedSearchCV\n",
    "from sklearn.model_selection import KFold\n",
    "from sklearn.model_selection import cross_validate\n",
    "from scipy.stats import randint\n"
   ]
  },
  {
   "cell_type": "code",
   "execution_count": 5,
   "metadata": {},
   "outputs": [
    {
     "name": "stdout",
     "output_type": "stream",
     "text": [
      "(800, 65)\n"
     ]
    }
   ],
   "source": [
    "# load in the features\n",
    "features_train = np.array([])\n",
    "\n",
    "for file in os.listdir('features_train'):\n",
    "    with open('features_train/' + file) as f:\n",
    "        df = pd.read_csv(f)\n",
    "        features_train = np.column_stack((features_train, df.values)) if features_train.size else df.values\n",
    "\n",
    "# load the labels\n",
    "train = pd.read_csv('train.csv')\n",
    "y_train = train['Genre']\n",
    "label_encoder = LabelEncoder()\n",
    "y_train = label_encoder.fit_transform(y_train)\n",
    "# normalize the data\n",
    "features_train = preprocessing.scale(features_train)\n",
    "features_used = 65\n",
    "# take some of the features (used for testing purposes)\n",
    "features_train = features_train[:, :features_used]\n",
    "print(features_train.shape)\n"
   ]
  },
  {
   "cell_type": "markdown",
   "metadata": {},
   "source": [
    "# Load in test Data\n"
   ]
  },
  {
   "cell_type": "code",
   "execution_count": 6,
   "metadata": {},
   "outputs": [],
   "source": [
    "features_test = np.array([])\n",
    "# load in the test features\n",
    "for file in os.listdir('features_test'):\n",
    "    with open('features_test/' + file) as f:\n",
    "        df = pd.read_csv(f)\n",
    "        features_test = np.column_stack((features_test, df.values)) if features_test.size else df.values\n",
    "\n",
    "# scale the test data\n",
    "features_test = preprocessing.scale(features_test)\n",
    "\n",
    "# \n",
    "features_test = features_test[:, :features_used]\n"
   ]
  },
  {
   "cell_type": "markdown",
   "metadata": {},
   "source": [
    "# Logistic Regression"
   ]
  },
  {
   "cell_type": "code",
   "execution_count": 7,
   "metadata": {},
   "outputs": [
    {
     "name": "stdout",
     "output_type": "stream",
     "text": [
      "Logistic Regression accuracy: 0.885\n"
     ]
    }
   ],
   "source": [
    "logreg = LogisticRegression(max_iter=300)\n",
    "logreg.fit(features_train, y_train)\n",
    "predictions = logreg.predict(features_train)\n",
    "# Calculate the accuracy\n",
    "accuracy = accuracy_score(y_train, predictions)\n",
    "print(\"Logistic Regression accuracy:\", accuracy)"
   ]
  },
  {
   "cell_type": "markdown",
   "metadata": {},
   "source": [
    "# Predict with Logistic Regression and save to CSV"
   ]
  },
  {
   "cell_type": "code",
   "execution_count": 3,
   "metadata": {},
   "outputs": [
    {
     "ename": "NameError",
     "evalue": "name 'logreg' is not defined",
     "output_type": "error",
     "traceback": [
      "\u001b[1;31m---------------------------------------------------------------------------\u001b[0m",
      "\u001b[1;31mNameError\u001b[0m                                 Traceback (most recent call last)",
      "Cell \u001b[1;32mIn[3], line 2\u001b[0m\n\u001b[0;32m      1\u001b[0m \u001b[38;5;66;03m# run the model on the test data\u001b[39;00m\n\u001b[1;32m----> 2\u001b[0m predictions \u001b[38;5;241m=\u001b[39m \u001b[43mlogreg\u001b[49m\u001b[38;5;241m.\u001b[39mpredict(features_test)\n\u001b[0;32m      3\u001b[0m predictions \u001b[38;5;241m=\u001b[39m label_encoder\u001b[38;5;241m.\u001b[39minverse_transform(predictions)\n\u001b[0;32m      4\u001b[0m \u001b[38;5;66;03m# save the predictions to a csv file\u001b[39;00m\n",
      "\u001b[1;31mNameError\u001b[0m: name 'logreg' is not defined"
     ]
    }
   ],
   "source": [
    "\n",
    "# run the model on the test data\n",
    "predictions = logreg.predict(features_test)\n",
    "predictions = label_encoder.inverse_transform(predictions)\n",
    "# save the predictions to a csv file\n",
    "df = pd.DataFrame({'ID': os.listdir('test'), 'genre': predictions})\n",
    "df.to_csv('predictionsLR.csv', index=False)"
   ]
  },
  {
   "cell_type": "markdown",
   "metadata": {},
   "source": [
    "# Cross-Validation for Logistic Regression"
   ]
  },
  {
   "cell_type": "code",
   "execution_count": null,
   "metadata": {},
   "outputs": [
    {
     "ename": "NameError",
     "evalue": "name 'LogisticRegression' is not defined",
     "output_type": "error",
     "traceback": [
      "\u001b[1;31m---------------------------------------------------------------------------\u001b[0m",
      "\u001b[1;31mNameError\u001b[0m                                 Traceback (most recent call last)",
      "Cell \u001b[1;32mIn[1], line 2\u001b[0m\n\u001b[0;32m      1\u001b[0m \u001b[38;5;66;03m# Cross-Validation using the logreg\u001b[39;00m\n\u001b[1;32m----> 2\u001b[0m logreg \u001b[38;5;241m=\u001b[39m \u001b[43mLogisticRegression\u001b[49m(max_iter\u001b[38;5;241m=\u001b[39m\u001b[38;5;241m300\u001b[39m, penalty\u001b[38;5;241m=\u001b[39m\u001b[38;5;124m'\u001b[39m\u001b[38;5;124ml2\u001b[39m\u001b[38;5;124m'\u001b[39m, C \u001b[38;5;241m=\u001b[39m \u001b[38;5;241m1\u001b[39m)\n\u001b[0;32m      3\u001b[0m cv_results \u001b[38;5;241m=\u001b[39m cross_validate(logreg, features_train, y_train, cv\u001b[38;5;241m=\u001b[39m\u001b[38;5;241m10\u001b[39m) \n\u001b[0;32m      4\u001b[0m \u001b[38;5;28mprint\u001b[39m(cv_results[\u001b[38;5;124m'\u001b[39m\u001b[38;5;124mtest_score\u001b[39m\u001b[38;5;124m'\u001b[39m], np\u001b[38;5;241m.\u001b[39mmean(cv_results[\u001b[38;5;124m'\u001b[39m\u001b[38;5;124mtest_score\u001b[39m\u001b[38;5;124m'\u001b[39m]))\n",
      "\u001b[1;31mNameError\u001b[0m: name 'LogisticRegression' is not defined"
     ]
    }
   ],
   "source": [
    "# Cross-Validation using the logreg\n",
    "logreg = LogisticRegression(max_iter=300, penalty='l2', C = 1)\n",
    "cv_results = cross_validate(logreg, features_train, y_train, cv=10) \n",
    "print(cv_results['test_score'], np.mean(cv_results['test_score']))"
   ]
  },
  {
   "cell_type": "markdown",
   "metadata": {},
   "source": [
    "# Neural Network"
   ]
  },
  {
   "cell_type": "code",
   "execution_count": null,
   "metadata": {},
   "outputs": [
    {
     "name": "stdout",
     "output_type": "stream",
     "text": [
      "Epoch 1/100\n",
      "WARNING:tensorflow:Your input ran out of data; interrupting training. Make sure that your dataset or generator can generate at least `steps_per_epoch * epochs` batches (in this case, 10 batches). You may need to use the repeat() function when building your dataset.\n",
      "10/10 - 1s - loss: 4.6206 - accuracy: 0.1607 - val_loss: 3.8211 - val_accuracy: 0.3500 - 625ms/epoch - 63ms/step\n",
      "Epoch 2/100\n",
      "10/10 - 0s - loss: 3.4798 - accuracy: 0.3179 - 31ms/epoch - 3ms/step\n",
      "Epoch 3/100\n",
      "10/10 - 0s - loss: 2.5695 - accuracy: 0.4783 - 32ms/epoch - 3ms/step\n",
      "Epoch 4/100\n",
      "10/10 - 0s - loss: 2.3956 - accuracy: 0.4857 - 31ms/epoch - 3ms/step\n",
      "Epoch 5/100\n",
      "10/10 - 0s - loss: 2.1019 - accuracy: 0.6051 - 30ms/epoch - 3ms/step\n",
      "Epoch 6/100\n",
      "10/10 - 0s - loss: 1.9869 - accuracy: 0.5929 - 31ms/epoch - 3ms/step\n",
      "Epoch 7/100\n",
      "10/10 - 0s - loss: 1.8549 - accuracy: 0.6196 - 33ms/epoch - 3ms/step\n",
      "Epoch 8/100\n",
      "10/10 - 0s - loss: 1.6663 - accuracy: 0.6964 - 36ms/epoch - 4ms/step\n",
      "Epoch 9/100\n",
      "10/10 - 0s - loss: 1.6500 - accuracy: 0.6929 - 32ms/epoch - 3ms/step\n",
      "Epoch 10/100\n",
      "10/10 - 0s - loss: 1.5225 - accuracy: 0.7210 - 33ms/epoch - 3ms/step\n",
      "Epoch 11/100\n",
      "10/10 - 0s - loss: 1.4217 - accuracy: 0.7571 - 31ms/epoch - 3ms/step\n",
      "Epoch 12/100\n",
      "10/10 - 0s - loss: 1.3498 - accuracy: 0.7717 - 29ms/epoch - 3ms/step\n",
      "Epoch 13/100\n",
      "10/10 - 0s - loss: 1.2468 - accuracy: 0.8000 - 29ms/epoch - 3ms/step\n",
      "Epoch 14/100\n",
      "10/10 - 0s - loss: 1.3142 - accuracy: 0.7464 - 29ms/epoch - 3ms/step\n",
      "Epoch 15/100\n",
      "10/10 - 0s - loss: 1.1743 - accuracy: 0.8214 - 28ms/epoch - 3ms/step\n",
      "Epoch 16/100\n",
      "10/10 - 0s - loss: 1.1214 - accuracy: 0.8143 - 29ms/epoch - 3ms/step\n",
      "Epoch 17/100\n",
      "10/10 - 0s - loss: 1.0691 - accuracy: 0.8514 - 31ms/epoch - 3ms/step\n",
      "Epoch 18/100\n",
      "10/10 - 0s - loss: 1.0121 - accuracy: 0.8286 - 32ms/epoch - 3ms/step\n",
      "Epoch 19/100\n",
      "10/10 - 0s - loss: 0.9825 - accuracy: 0.8623 - 33ms/epoch - 3ms/step\n",
      "Epoch 20/100\n",
      "10/10 - 0s - loss: 0.9595 - accuracy: 0.8679 - 31ms/epoch - 3ms/step\n",
      "Epoch 21/100\n",
      "10/10 - 0s - loss: 0.9646 - accuracy: 0.8370 - 32ms/epoch - 3ms/step\n",
      "Epoch 22/100\n",
      "10/10 - 0s - loss: 0.8336 - accuracy: 0.9143 - 28ms/epoch - 3ms/step\n",
      "Epoch 23/100\n",
      "10/10 - 0s - loss: 0.8964 - accuracy: 0.8913 - 29ms/epoch - 3ms/step\n",
      "Epoch 24/100\n",
      "10/10 - 0s - loss: 0.8065 - accuracy: 0.9000 - 29ms/epoch - 3ms/step\n",
      "Epoch 25/100\n",
      "10/10 - 0s - loss: 0.8309 - accuracy: 0.8750 - 30ms/epoch - 3ms/step\n",
      "Epoch 26/100\n",
      "10/10 - 0s - loss: 0.7581 - accuracy: 0.9058 - 29ms/epoch - 3ms/step\n",
      "Epoch 27/100\n",
      "10/10 - 0s - loss: 0.7648 - accuracy: 0.8929 - 29ms/epoch - 3ms/step\n",
      "Epoch 28/100\n",
      "10/10 - 0s - loss: 0.7134 - accuracy: 0.9420 - 29ms/epoch - 3ms/step\n",
      "Epoch 29/100\n",
      "10/10 - 0s - loss: 0.7044 - accuracy: 0.9321 - 29ms/epoch - 3ms/step\n",
      "Epoch 30/100\n",
      "10/10 - 0s - loss: 0.6820 - accuracy: 0.9167 - 28ms/epoch - 3ms/step\n",
      "Epoch 31/100\n",
      "10/10 - 0s - loss: 0.6201 - accuracy: 0.9536 - 29ms/epoch - 3ms/step\n",
      "Epoch 32/100\n",
      "10/10 - 0s - loss: 0.6521 - accuracy: 0.9321 - 28ms/epoch - 3ms/step\n",
      "Epoch 33/100\n",
      "10/10 - 0s - loss: 0.6675 - accuracy: 0.8949 - 31ms/epoch - 3ms/step\n",
      "Epoch 34/100\n",
      "10/10 - 0s - loss: 0.5931 - accuracy: 0.9571 - 33ms/epoch - 3ms/step\n",
      "Epoch 35/100\n",
      "10/10 - 0s - loss: 0.5710 - accuracy: 0.9674 - 32ms/epoch - 3ms/step\n",
      "Epoch 36/100\n",
      "10/10 - 0s - loss: 0.5821 - accuracy: 0.9500 - 30ms/epoch - 3ms/step\n",
      "Epoch 37/100\n",
      "10/10 - 0s - loss: 0.5416 - accuracy: 0.9565 - 33ms/epoch - 3ms/step\n",
      "Epoch 38/100\n",
      "10/10 - 0s - loss: 0.4964 - accuracy: 0.9679 - 29ms/epoch - 3ms/step\n",
      "Epoch 39/100\n",
      "10/10 - 0s - loss: 0.5136 - accuracy: 0.9786 - 29ms/epoch - 3ms/step\n",
      "Epoch 40/100\n",
      "10/10 - 0s - loss: 0.4913 - accuracy: 0.9819 - 32ms/epoch - 3ms/step\n",
      "Epoch 41/100\n",
      "10/10 - 0s - loss: 0.4727 - accuracy: 0.9964 - 33ms/epoch - 3ms/step\n",
      "Epoch 42/100\n",
      "10/10 - 0s - loss: 0.4410 - accuracy: 0.9891 - 32ms/epoch - 3ms/step\n",
      "Epoch 43/100\n",
      "10/10 - 0s - loss: 0.4401 - accuracy: 0.9786 - 32ms/epoch - 3ms/step\n",
      "Epoch 44/100\n",
      "10/10 - 0s - loss: 0.4230 - accuracy: 0.9928 - 31ms/epoch - 3ms/step\n",
      "Epoch 45/100\n",
      "10/10 - 0s - loss: 0.4200 - accuracy: 0.9893 - 32ms/epoch - 3ms/step\n",
      "Epoch 46/100\n",
      "10/10 - 0s - loss: 0.4214 - accuracy: 0.9855 - 35ms/epoch - 3ms/step\n",
      "Epoch 47/100\n",
      "10/10 - 0s - loss: 0.4006 - accuracy: 0.9964 - 30ms/epoch - 3ms/step\n",
      "Epoch 48/100\n",
      "10/10 - 0s - loss: 0.3896 - accuracy: 0.9964 - 28ms/epoch - 3ms/step\n",
      "Epoch 49/100\n",
      "10/10 - 0s - loss: 0.3685 - accuracy: 1.0000 - 29ms/epoch - 3ms/step\n",
      "Epoch 50/100\n",
      "10/10 - 0s - loss: 0.3602 - accuracy: 1.0000 - 33ms/epoch - 3ms/step\n",
      "Epoch 51/100\n",
      "10/10 - 0s - loss: 0.3637 - accuracy: 0.9964 - 30ms/epoch - 3ms/step\n",
      "Epoch 52/100\n",
      "10/10 - 0s - loss: 0.3522 - accuracy: 0.9964 - 30ms/epoch - 3ms/step\n",
      "Epoch 53/100\n",
      "10/10 - 0s - loss: 0.3484 - accuracy: 0.9928 - 31ms/epoch - 3ms/step\n",
      "Epoch 54/100\n",
      "10/10 - 0s - loss: 0.3245 - accuracy: 1.0000 - 31ms/epoch - 3ms/step\n",
      "Epoch 55/100\n",
      "10/10 - 0s - loss: 0.3363 - accuracy: 1.0000 - 34ms/epoch - 3ms/step\n",
      "Epoch 56/100\n",
      "10/10 - 0s - loss: 0.3099 - accuracy: 1.0000 - 31ms/epoch - 3ms/step\n",
      "Epoch 57/100\n",
      "10/10 - 0s - loss: 0.3171 - accuracy: 1.0000 - 31ms/epoch - 3ms/step\n",
      "Epoch 58/100\n",
      "10/10 - 0s - loss: 0.3055 - accuracy: 0.9964 - 30ms/epoch - 3ms/step\n",
      "Epoch 59/100\n",
      "10/10 - 0s - loss: 0.3009 - accuracy: 1.0000 - 29ms/epoch - 3ms/step\n",
      "Epoch 60/100\n",
      "10/10 - 0s - loss: 0.2953 - accuracy: 1.0000 - 30ms/epoch - 3ms/step\n",
      "Epoch 61/100\n",
      "10/10 - 0s - loss: 0.2818 - accuracy: 1.0000 - 30ms/epoch - 3ms/step\n",
      "Epoch 62/100\n",
      "10/10 - 0s - loss: 0.2821 - accuracy: 1.0000 - 29ms/epoch - 3ms/step\n",
      "Epoch 63/100\n",
      "10/10 - 0s - loss: 0.2753 - accuracy: 1.0000 - 29ms/epoch - 3ms/step\n",
      "Epoch 64/100\n",
      "10/10 - 0s - loss: 0.2709 - accuracy: 1.0000 - 32ms/epoch - 3ms/step\n",
      "Epoch 65/100\n",
      "10/10 - 0s - loss: 0.2604 - accuracy: 1.0000 - 32ms/epoch - 3ms/step\n",
      "Epoch 66/100\n",
      "10/10 - 0s - loss: 0.2575 - accuracy: 1.0000 - 30ms/epoch - 3ms/step\n",
      "Epoch 67/100\n",
      "10/10 - 0s - loss: 0.2522 - accuracy: 1.0000 - 31ms/epoch - 3ms/step\n",
      "Epoch 68/100\n",
      "10/10 - 0s - loss: 0.2443 - accuracy: 1.0000 - 31ms/epoch - 3ms/step\n",
      "Epoch 69/100\n",
      "10/10 - 0s - loss: 0.2479 - accuracy: 1.0000 - 30ms/epoch - 3ms/step\n",
      "Epoch 70/100\n",
      "10/10 - 0s - loss: 0.2367 - accuracy: 1.0000 - 29ms/epoch - 3ms/step\n",
      "Epoch 71/100\n",
      "10/10 - 0s - loss: 0.2338 - accuracy: 1.0000 - 34ms/epoch - 3ms/step\n",
      "Epoch 72/100\n",
      "10/10 - 0s - loss: 0.2344 - accuracy: 1.0000 - 39ms/epoch - 4ms/step\n",
      "Epoch 73/100\n",
      "10/10 - 0s - loss: 0.2271 - accuracy: 1.0000 - 36ms/epoch - 4ms/step\n",
      "Epoch 74/100\n",
      "10/10 - 0s - loss: 0.2221 - accuracy: 1.0000 - 32ms/epoch - 3ms/step\n",
      "Epoch 75/100\n",
      "10/10 - 0s - loss: 0.2163 - accuracy: 1.0000 - 33ms/epoch - 3ms/step\n",
      "Epoch 76/100\n",
      "10/10 - 0s - loss: 0.2143 - accuracy: 1.0000 - 30ms/epoch - 3ms/step\n",
      "Epoch 77/100\n",
      "10/10 - 0s - loss: 0.2069 - accuracy: 1.0000 - 32ms/epoch - 3ms/step\n",
      "Epoch 78/100\n",
      "10/10 - 0s - loss: 0.2081 - accuracy: 1.0000 - 32ms/epoch - 3ms/step\n",
      "Epoch 79/100\n",
      "10/10 - 0s - loss: 0.1988 - accuracy: 1.0000 - 30ms/epoch - 3ms/step\n",
      "Epoch 80/100\n",
      "10/10 - 0s - loss: 0.2004 - accuracy: 1.0000 - 30ms/epoch - 3ms/step\n",
      "Epoch 81/100\n",
      "10/10 - 0s - loss: 0.1915 - accuracy: 1.0000 - 32ms/epoch - 3ms/step\n",
      "Epoch 82/100\n",
      "10/10 - 0s - loss: 0.1921 - accuracy: 1.0000 - 34ms/epoch - 3ms/step\n",
      "Epoch 83/100\n",
      "10/10 - 0s - loss: 0.1886 - accuracy: 1.0000 - 32ms/epoch - 3ms/step\n",
      "Epoch 84/100\n",
      "10/10 - 0s - loss: 0.1845 - accuracy: 1.0000 - 33ms/epoch - 3ms/step\n",
      "Epoch 85/100\n",
      "10/10 - 0s - loss: 0.1821 - accuracy: 1.0000 - 31ms/epoch - 3ms/step\n",
      "Epoch 86/100\n",
      "10/10 - 0s - loss: 0.1745 - accuracy: 1.0000 - 34ms/epoch - 3ms/step\n",
      "Epoch 87/100\n",
      "10/10 - 0s - loss: 0.1787 - accuracy: 1.0000 - 31ms/epoch - 3ms/step\n",
      "Epoch 88/100\n",
      "10/10 - 0s - loss: 0.1754 - accuracy: 1.0000 - 31ms/epoch - 3ms/step\n",
      "Epoch 89/100\n",
      "10/10 - 0s - loss: 0.1694 - accuracy: 1.0000 - 31ms/epoch - 3ms/step\n",
      "Epoch 90/100\n",
      "10/10 - 0s - loss: 0.1670 - accuracy: 1.0000 - 30ms/epoch - 3ms/step\n",
      "Epoch 91/100\n",
      "10/10 - 0s - loss: 0.1606 - accuracy: 1.0000 - 32ms/epoch - 3ms/step\n",
      "Epoch 92/100\n",
      "10/10 - 0s - loss: 0.1615 - accuracy: 1.0000 - 33ms/epoch - 3ms/step\n",
      "Epoch 93/100\n",
      "10/10 - 0s - loss: 0.1565 - accuracy: 1.0000 - 33ms/epoch - 3ms/step\n",
      "Epoch 94/100\n",
      "10/10 - 0s - loss: 0.1612 - accuracy: 0.9964 - 32ms/epoch - 3ms/step\n",
      "Epoch 95/100\n",
      "10/10 - 0s - loss: 0.1670 - accuracy: 0.9964 - 36ms/epoch - 4ms/step\n",
      "Epoch 96/100\n",
      "10/10 - 0s - loss: 0.1590 - accuracy: 1.0000 - 32ms/epoch - 3ms/step\n",
      "Epoch 97/100\n",
      "10/10 - 0s - loss: 0.1901 - accuracy: 0.9855 - 31ms/epoch - 3ms/step\n",
      "Epoch 98/100\n",
      "10/10 - 0s - loss: 0.1702 - accuracy: 0.9964 - 39ms/epoch - 4ms/step\n",
      "Epoch 99/100\n",
      "10/10 - 0s - loss: 0.1915 - accuracy: 0.9891 - 39ms/epoch - 4ms/step\n",
      "Epoch 100/100\n",
      "10/10 - 0s - loss: 0.1925 - accuracy: 0.9786 - 31ms/epoch - 3ms/step\n",
      "25/25 [==============================] - 0s 917us/step - loss: 0.3551 - accuracy: 0.9475\n",
      "Neural Network accuracy: 0.9474999904632568\n"
     ]
    }
   ],
   "source": [
    "model = Sequential()\n",
    "model.add(Dense(80, activation='relu', input_shape = (features_used,), kernel_regularizer='l2', bias_regularizer='l2', activity_regularizer='l2'))\n",
    "\n",
    "model.add(Dense(256, activation='relu'))\n",
    "\n",
    "model.add(Dense(128, activation='relu'))\n",
    "\n",
    "model.add(Dense(60, activation='softmax'))\n",
    "\n",
    "model.compile(optimizer='adam', loss='sparse_categorical_crossentropy', metrics=['accuracy'])\n",
    "\n",
    "model.fit(features_train, y_train, epochs=  100, batch_size=28, validation_split=0.2, verbose=2, shuffle=True, steps_per_epoch=10, validation_steps=10, validation_batch_size=28, validation_freq=1)\n",
    "\n",
    "loss, accuracy = model.evaluate(features_train, y_train)\n",
    "print('Neural Network accuracy:', accuracy)"
   ]
  },
  {
   "cell_type": "markdown",
   "metadata": {},
   "source": [
    "# Predict with Neural Network and save to CSV"
   ]
  },
  {
   "cell_type": "code",
   "execution_count": null,
   "metadata": {},
   "outputs": [
    {
     "name": "stdout",
     "output_type": "stream",
     "text": [
      "7/7 [==============================] - 0s 2ms/step\n"
     ]
    }
   ],
   "source": [
    "predictions = model.predict(features_test)  \n",
    "predictions = np.argmax(predictions, axis=1)\n",
    "predictions = label_encoder.inverse_transform(predictions)\n",
    "# print(predictions)\n",
    "\n",
    "\n",
    "df = pd.DataFrame({'ID': os.listdir('test'), 'genre': predictions})\n",
    "df.to_csv('predictionsNN.csv', index=False)"
   ]
  },
  {
   "cell_type": "markdown",
   "metadata": {},
   "source": [
    "# Cross-Validation for Neural-Network"
   ]
  },
  {
   "cell_type": "code",
   "execution_count": null,
   "metadata": {},
   "outputs": [
    {
     "name": "stdout",
     "output_type": "stream",
     "text": [
      "WARNING:tensorflow:Your input ran out of data; interrupting training. Make sure that your dataset or generator can generate at least `steps_per_epoch * epochs` batches (in this case, 10 batches). You may need to use the repeat() function when building your dataset.\n",
      "0.675000011920929\n",
      "WARNING:tensorflow:Your input ran out of data; interrupting training. Make sure that your dataset or generator can generate at least `steps_per_epoch * epochs` batches (in this case, 10 batches). You may need to use the repeat() function when building your dataset.\n",
      "0.7124999761581421\n",
      "WARNING:tensorflow:Your input ran out of data; interrupting training. Make sure that your dataset or generator can generate at least `steps_per_epoch * epochs` batches (in this case, 10 batches). You may need to use the repeat() function when building your dataset.\n",
      "0.6625000238418579\n",
      "WARNING:tensorflow:Your input ran out of data; interrupting training. Make sure that your dataset or generator can generate at least `steps_per_epoch * epochs` batches (in this case, 10 batches). You may need to use the repeat() function when building your dataset.\n",
      "0.737500011920929\n",
      "WARNING:tensorflow:Your input ran out of data; interrupting training. Make sure that your dataset or generator can generate at least `steps_per_epoch * epochs` batches (in this case, 10 batches). You may need to use the repeat() function when building your dataset.\n",
      "0.675000011920929\n",
      "WARNING:tensorflow:Your input ran out of data; interrupting training. Make sure that your dataset or generator can generate at least `steps_per_epoch * epochs` batches (in this case, 10 batches). You may need to use the repeat() function when building your dataset.\n",
      "0.75\n",
      "WARNING:tensorflow:Your input ran out of data; interrupting training. Make sure that your dataset or generator can generate at least `steps_per_epoch * epochs` batches (in this case, 10 batches). You may need to use the repeat() function when building your dataset.\n",
      "0.625\n",
      "WARNING:tensorflow:Your input ran out of data; interrupting training. Make sure that your dataset or generator can generate at least `steps_per_epoch * epochs` batches (in this case, 10 batches). You may need to use the repeat() function when building your dataset.\n",
      "0.7250000238418579\n",
      "WARNING:tensorflow:Your input ran out of data; interrupting training. Make sure that your dataset or generator can generate at least `steps_per_epoch * epochs` batches (in this case, 10 batches). You may need to use the repeat() function when building your dataset.\n",
      "0.7124999761581421\n",
      "WARNING:tensorflow:Your input ran out of data; interrupting training. Make sure that your dataset or generator can generate at least `steps_per_epoch * epochs` batches (in this case, 10 batches). You may need to use the repeat() function when building your dataset.\n",
      "0.7124999761581421\n",
      "0.6987500011920929\n"
     ]
    }
   ],
   "source": [
    "kfold = KFold(n_splits = 10)\n",
    "validation = []\n",
    "for train, test in kfold.split(features_train, y_train):\n",
    "    model = Sequential()\n",
    "    model.add(Dense(80, activation='relu', input_shape = (features_used,), kernel_regularizer='l2', bias_regularizer='l2', activity_regularizer='l2'))\n",
    "    model.add(Dense(256, activation='relu'))\n",
    "    model.add(Dense(128, activation='relu'))\n",
    "    model.add(Dense(60, activation='softmax'))\n",
    "    model.compile(optimizer='adam', loss='sparse_categorical_crossentropy', metrics=['accuracy'])\n",
    "    model.fit(features_train[train], y_train[train], epochs=25, batch_size=28, validation_split=0.2, verbose=0, shuffle=True, steps_per_epoch=10, validation_steps=10, validation_batch_size=28, validation_freq=1)\n",
    "    score = model.evaluate(features_train[test], y_train[test], verbose=0)\n",
    "    validation.append(score[1])\n",
    "    print(score[1])\n",
    "print(np.mean(validation))\n"
   ]
  },
  {
   "cell_type": "markdown",
   "metadata": {},
   "source": [
    "# Random Forest"
   ]
  },
  {
   "cell_type": "code",
   "execution_count": null,
   "metadata": {},
   "outputs": [
    {
     "name": "stdout",
     "output_type": "stream",
     "text": [
      "0.99875\n"
     ]
    }
   ],
   "source": [
    "# use RandomForestClassifier and RandomizedSearchCV\n",
    "\n",
    "# initialize the parameters which we want to optimize\n",
    "params = {'n_estimators': randint(50, 200), 'max_depth': randint(1, 20)}\n",
    "# print(randint(50, 200))\n",
    "# Initialize Random Forest Classifier\n",
    "rf = RandomForestClassifier()\n",
    "# Initialize randomized search CV, which finds the best values for the given inputs\n",
    "param_search = RandomizedSearchCV(rf, params)\n",
    "param_search.fit(features_train, y_train)\n",
    "best = param_search.best_estimator_\n",
    "best_params = param_search.best_params_\n",
    "# print(best_params)\n",
    "# print(param_search.cv_results_)\n",
    "# Get the best parameter values\n",
    "max_depth = best_params['max_depth']\n",
    "n_estimators = best_params['n_estimators']\n",
    "# Create a random forest using these inputs\n",
    "rf_best = RandomForestClassifier(n_estimators, max_depth=max_depth)\n",
    "rf_best.fit(features_train, y_train)\n",
    "# Predict using this classifier and then check our accuracy\n",
    "predictions = rf_best.predict(features_train)\n",
    "# Calculate the accuracy\n",
    "accuracy = accuracy_score(y_train, predictions)\n",
    "print(accuracy)"
   ]
  },
  {
   "cell_type": "markdown",
   "metadata": {},
   "source": [
    "# Random Forest Cross-Validation"
   ]
  },
  {
   "cell_type": "code",
   "execution_count": null,
   "metadata": {},
   "outputs": [
    {
     "name": "stdout",
     "output_type": "stream",
     "text": [
      "[0.6875 0.5625 0.7375 0.75   0.75   0.7375 0.7    0.675  0.725  0.75  ] 0.7074999999999999\n"
     ]
    }
   ],
   "source": [
    "# Random Forest Cross-Validation\n",
    "rf = RandomForestClassifier(n_estimators, max_depth=max_depth)\n",
    "cv_results = cross_validate(rf, features_train, y_train, cv=10) \n",
    "print(cv_results['test_score'], np.mean(cv_results['test_score']))\n"
   ]
  },
  {
   "cell_type": "code",
   "execution_count": null,
   "metadata": {},
   "outputs": [],
   "source": [
    "predictions = rf_best.predict(features_test)\n",
    "predictions = label_encoder.inverse_transform(predictions)\n",
    "# save the predictions to a csv file\n",
    "df = pd.DataFrame({'ID': os.listdir('test'), 'genre': predictions})\n",
    "df.to_csv('predictionsRF.csv', index=False)"
   ]
  }
 ],
 "metadata": {
  "kernelspec": {
   "display_name": "Python 3",
   "language": "python",
   "name": "python3"
  },
  "language_info": {
   "codemirror_mode": {
    "name": "ipython",
    "version": 3
   },
   "file_extension": ".py",
   "mimetype": "text/x-python",
   "name": "python",
   "nbconvert_exporter": "python",
   "pygments_lexer": "ipython3",
   "version": "3.11.9"
  }
 },
 "nbformat": 4,
 "nbformat_minor": 2
}
