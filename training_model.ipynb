{
 "cells": [
  {
   "cell_type": "markdown",
   "metadata": {},
   "source": [
    "# Load in extracted features"
   ]
  },
  {
   "cell_type": "code",
   "execution_count": 1,
   "metadata": {},
   "outputs": [],
   "source": [
    "# open the every file in a directory and print the first line of each file\n",
    "import os\n",
    "import sys\n",
    "import numpy as np\n",
    "import pandas as pd\n",
    "from sklearn import preprocessing\n",
    "from sklearn.metrics import accuracy_score\n",
    "from sklearn.metrics import r2_score\n",
    "from sklearn.linear_model import LogisticRegression\n",
    "from sklearn.linear_model import BayesianRidge\n",
    "from sklearn.linear_model import LinearRegression\n",
    "from sklearn.preprocessing import LabelEncoder\n",
    "from tensorflow.keras.models import Sequential\n",
    "from tensorflow.keras.layers import Dense, SimpleRNN\n"
   ]
  },
  {
   "cell_type": "code",
   "execution_count": 35,
   "metadata": {},
   "outputs": [],
   "source": [
    "# load in the features\n",
    "features_train = np.array([])\n",
    "for file in os.listdir('features_train'):\n",
    "    with open('features_train/' + file) as f:\n",
    "        df = pd.read_csv(f)\n",
    "        features_train = np.column_stack((features_train, df.values)) if features_train.size else df.values\n",
    "\n",
    "# load the labels\n",
    "train = pd.read_csv('train.csv')\n",
    "y_train = train['Genre']\n",
    "label_encoder = LabelEncoder()\n",
    "y_train = label_encoder.fit_transform(y_train)\n",
    "# normalize the data\n",
    "features_train = preprocessing.scale(features_train)"
   ]
  },
  {
   "cell_type": "code",
   "execution_count": null,
   "metadata": {},
   "outputs": [],
   "source": [
    "\n"
   ]
  },
  {
   "cell_type": "markdown",
   "metadata": {},
   "source": [
    "# Load in test Data\n"
   ]
  },
  {
   "cell_type": "code",
   "execution_count": 36,
   "metadata": {},
   "outputs": [],
   "source": [
    "features_test = np.array([])\n",
    "for file in os.listdir('features_test'):\n",
    "    with open('features_test/' + file) as f:\n",
    "        df = pd.read_csv(f)\n",
    "        features_test = np.column_stack((features_test, df.values)) if features_test.size else df.values\n",
    "\n",
    "# scale the test data\n",
    "features_test = preprocessing.scale(features_test)\n"
   ]
  },
  {
   "cell_type": "markdown",
   "metadata": {},
   "source": [
    "# Logistic Regression"
   ]
  },
  {
   "cell_type": "code",
   "execution_count": 37,
   "metadata": {},
   "outputs": [
    {
     "name": "stdout",
     "output_type": "stream",
     "text": [
      "Logistic Regression accuracy: 0.885\n"
     ]
    }
   ],
   "source": [
    "\n",
    "logreg = LogisticRegression(max_iter=300)\n",
    "logreg.fit(features_train, y_train)\n",
    "predictions = logreg.predict(features_train)\n",
    "# Calculate the accuracy\n",
    "accuracy = accuracy_score(y_train, predictions)\n",
    "print(\"Logistic Regression accuracy:\", accuracy)\n"
   ]
  },
  {
   "cell_type": "markdown",
   "metadata": {},
   "source": [
    "# Predict with Logistic Regression and save to CSV"
   ]
  },
  {
   "cell_type": "code",
   "execution_count": 38,
   "metadata": {},
   "outputs": [],
   "source": [
    "\n",
    "# run the model on the test data\n",
    "predictions = logreg.predict(features_test)\n",
    "predictions = label_encoder.inverse_transform(predictions)\n",
    "# save the predictions to a csv file\n",
    "df = pd.DataFrame({'ID': os.listdir('test'), 'genre': predictions})\n",
    "df.to_csv('predictions.csv', index=False)"
   ]
  },
  {
   "cell_type": "markdown",
   "metadata": {},
   "source": [
    "# Neural Network"
   ]
  },
  {
   "cell_type": "code",
   "execution_count": 47,
   "metadata": {},
   "outputs": [
    {
     "name": "stdout",
     "output_type": "stream",
     "text": [
      "Epoch 1/25\n"
     ]
    },
    {
     "name": "stdout",
     "output_type": "stream",
     "text": [
      "WARNING:tensorflow:Your input ran out of data; interrupting training. Make sure that your dataset or generator can generate at least `steps_per_epoch * epochs` batches (in this case, 10 batches). You may need to use the repeat() function when building your dataset.\n",
      "10/10 - 1s - loss: 4.5502 - accuracy: 0.1857 - val_loss: 3.8550 - val_accuracy: 0.2500 - 629ms/epoch - 63ms/step\n",
      "Epoch 2/25\n",
      "10/10 - 0s - loss: 3.4267 - accuracy: 0.3393 - 33ms/epoch - 3ms/step\n",
      "Epoch 3/25\n",
      "10/10 - 0s - loss: 2.5496 - accuracy: 0.5072 - 32ms/epoch - 3ms/step\n",
      "Epoch 4/25\n",
      "10/10 - 0s - loss: 2.2185 - accuracy: 0.5500 - 36ms/epoch - 4ms/step\n",
      "Epoch 5/25\n",
      "10/10 - 0s - loss: 2.0472 - accuracy: 0.5833 - 33ms/epoch - 3ms/step\n",
      "Epoch 6/25\n",
      "10/10 - 0s - loss: 1.8739 - accuracy: 0.6143 - 24ms/epoch - 2ms/step\n",
      "Epoch 7/25\n",
      "10/10 - 0s - loss: 1.7985 - accuracy: 0.6304 - 28ms/epoch - 3ms/step\n",
      "Epoch 8/25\n",
      "10/10 - 0s - loss: 1.6791 - accuracy: 0.6679 - 32ms/epoch - 3ms/step\n",
      "Epoch 9/25\n",
      "10/10 - 0s - loss: 1.6207 - accuracy: 0.6714 - 31ms/epoch - 3ms/step\n",
      "Epoch 10/25\n",
      "10/10 - 0s - loss: 1.4687 - accuracy: 0.7319 - 27ms/epoch - 3ms/step\n",
      "Epoch 11/25\n",
      "10/10 - 0s - loss: 1.3974 - accuracy: 0.7286 - 31ms/epoch - 3ms/step\n",
      "Epoch 12/25\n",
      "10/10 - 0s - loss: 1.4062 - accuracy: 0.6993 - 25ms/epoch - 2ms/step\n",
      "Epoch 13/25\n",
      "10/10 - 0s - loss: 1.2415 - accuracy: 0.7893 - 28ms/epoch - 3ms/step\n",
      "Epoch 14/25\n",
      "10/10 - 0s - loss: 1.2103 - accuracy: 0.8080 - 31ms/epoch - 3ms/step\n",
      "Epoch 15/25\n",
      "10/10 - 0s - loss: 1.1117 - accuracy: 0.8000 - 29ms/epoch - 3ms/step\n",
      "Epoch 16/25\n",
      "10/10 - 0s - loss: 1.1664 - accuracy: 0.7821 - 29ms/epoch - 3ms/step\n",
      "Epoch 17/25\n",
      "10/10 - 0s - loss: 1.0666 - accuracy: 0.8406 - 30ms/epoch - 3ms/step\n",
      "Epoch 18/25\n",
      "10/10 - 0s - loss: 1.0842 - accuracy: 0.8107 - 29ms/epoch - 3ms/step\n",
      "Epoch 19/25\n",
      "10/10 - 0s - loss: 0.9488 - accuracy: 0.8768 - 29ms/epoch - 3ms/step\n",
      "Epoch 20/25\n",
      "10/10 - 0s - loss: 0.9248 - accuracy: 0.8536 - 31ms/epoch - 3ms/step\n",
      "Epoch 21/25\n",
      "10/10 - 0s - loss: 0.9860 - accuracy: 0.8514 - 27ms/epoch - 3ms/step\n",
      "Epoch 22/25\n",
      "10/10 - 0s - loss: 0.8252 - accuracy: 0.8929 - 30ms/epoch - 3ms/step\n",
      "Epoch 23/25\n",
      "10/10 - 0s - loss: 0.8503 - accuracy: 0.8732 - 29ms/epoch - 3ms/step\n",
      "Epoch 24/25\n",
      "10/10 - 0s - loss: 0.7883 - accuracy: 0.9107 - 29ms/epoch - 3ms/step\n",
      "Epoch 25/25\n",
      "10/10 - 0s - loss: 0.7817 - accuracy: 0.9000 - 31ms/epoch - 3ms/step\n",
      "25/25 [==============================] - 0s 1ms/step - loss: 0.8380 - accuracy: 0.8788\n",
      "Neural Network accuracy: 0.8787500262260437\n"
     ]
    }
   ],
   "source": [
    "\n",
    "\n",
    "model = Sequential()\n",
    "model.add(Dense(80, activation='relu', input_shape = (65,), kernel_regularizer='l2', bias_regularizer='l2', activity_regularizer='l2'))\n",
    "\n",
    "model.add(Dense(256, activation='relu'))\n",
    "\n",
    "model.add(Dense(128, activation='relu'))\n",
    "\n",
    "model.add(Dense(60, activation='softmax'))\n",
    "\n",
    "model.compile(optimizer='adam', loss='sparse_categorical_crossentropy', metrics=['accuracy'])\n",
    "\n",
    "model.fit(features_train, y_train, epochs=25, batch_size=28, validation_split=0.2, verbose=2, shuffle=True, steps_per_epoch=10, validation_steps=10, validation_batch_size=28, validation_freq=1, max_queue_size=10, workers=1, use_multiprocessing=False)\n",
    "\n",
    "loss, accuracy = model.evaluate(features_train, y_train)\n",
    "print('Neural Network accuracy:', accuracy)"
   ]
  },
  {
   "cell_type": "markdown",
   "metadata": {},
   "source": [
    "# Predict with Neural Network and save to CSV"
   ]
  },
  {
   "cell_type": "code",
   "execution_count": 48,
   "metadata": {},
   "outputs": [
    {
     "name": "stdout",
     "output_type": "stream",
     "text": [
      "1/7 [===>..........................] - ETA: 0s"
     ]
    },
    {
     "name": "stdout",
     "output_type": "stream",
     "text": [
      "7/7 [==============================] - 0s 1ms/step\n",
      "['metal' 'pop' 'country' 'metal' 'metal' 'rock' 'rock' 'classical' 'blues'\n",
      " 'jazz' 'disco' 'hiphop' 'hiphop' 'disco' 'reggae' 'blues' 'blues' 'rock'\n",
      " 'pop' 'hiphop' 'jazz' 'disco' 'classical' 'hiphop' 'jazz' 'classical'\n",
      " 'country' 'blues' 'rock' 'blues' 'country' 'classical' 'blues' 'rock'\n",
      " 'metal' 'pop' 'reggae' 'country' 'country' 'country' 'pop' 'metal'\n",
      " 'country' 'pop' 'jazz' 'disco' 'country' 'pop' 'rock' 'disco' 'blues'\n",
      " 'hiphop' 'hiphop' 'rock' 'hiphop' 'reggae' 'pop' 'rock' 'metal' 'country'\n",
      " 'classical' 'country' 'country' 'country' 'hiphop' 'metal' 'hiphop'\n",
      " 'jazz' 'country' 'blues' 'jazz' 'metal' 'classical' 'metal' 'country'\n",
      " 'hiphop' 'country' 'rock' 'rock' 'rock' 'pop' 'disco' 'reggae' 'country'\n",
      " 'rock' 'country' 'classical' 'disco' 'blues' 'hiphop' 'reggae' 'jazz'\n",
      " 'country' 'metal' 'hiphop' 'classical' 'rock' 'country' 'pop' 'disco'\n",
      " 'reggae' 'country' 'pop' 'metal' 'classical' 'pop' 'disco' 'pop' 'rock'\n",
      " 'classical' 'hiphop' 'country' 'blues' 'classical' 'country' 'reggae'\n",
      " 'classical' 'blues' 'country' 'jazz' 'disco' 'jazz' 'blues' 'hiphop'\n",
      " 'classical' 'jazz' 'hiphop' 'country' 'metal' 'classical' 'jazz' 'reggae'\n",
      " 'rock' 'blues' 'reggae' 'blues' 'hiphop' 'metal' 'rock' 'classical'\n",
      " 'metal' 'jazz' 'rock' 'disco' 'blues' 'reggae' 'rock' 'blues' 'metal'\n",
      " 'disco' 'jazz' 'rock' 'disco' 'jazz' 'metal' 'blues' 'pop' 'jazz' 'rock'\n",
      " 'country' 'pop' 'classical' 'hiphop' 'country' 'blues' 'disco' 'blues'\n",
      " 'country' 'jazz' 'blues' 'pop' 'pop' 'reggae' 'rock' 'blues' 'reggae'\n",
      " 'blues' 'blues' 'metal' 'blues' 'reggae' 'disco' 'blues' 'jazz' 'hiphop'\n",
      " 'reggae' 'disco' 'country' 'metal' 'reggae' 'reggae' 'disco' 'metal'\n",
      " 'hiphop' 'blues' 'jazz' 'classical' 'jazz' 'metal' 'disco']\n"
     ]
    }
   ],
   "source": [
    "predictions = model.predict(features_test)\n",
    "predictions = np.argmax(predictions, axis=1)\n",
    "predictions = label_encoder.inverse_transform(predictions)\n",
    "print(predictions)\n",
    "\n",
    "df = pd.DataFrame({'ID': os.listdir('test'), 'genre': predictions})\n",
    "df.to_csv('predictions.csv', index=False)"
   ]
  }
 ],
 "metadata": {
  "kernelspec": {
   "display_name": "Python 3",
   "language": "python",
   "name": "python3"
  },
  "language_info": {
   "codemirror_mode": {
    "name": "ipython",
    "version": 3
   },
   "file_extension": ".py",
   "mimetype": "text/x-python",
   "name": "python",
   "nbconvert_exporter": "python",
   "pygments_lexer": "ipython3",
   "version": "3.11.9"
  }
 },
 "nbformat": 4,
 "nbformat_minor": 2
}
