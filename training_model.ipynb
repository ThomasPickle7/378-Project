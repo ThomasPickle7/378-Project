{
 "cells": [
  {
   "cell_type": "markdown",
   "metadata": {},
   "source": [
    "# Load in extracted features"
   ]
  },
  {
   "cell_type": "code",
   "execution_count": 80,
   "metadata": {},
   "outputs": [],
   "source": [
    "# open the every file in a directory and print the first line of each file\n",
    "import os\n",
    "import sys\n",
    "import numpy as np\n",
    "import pandas as pd\n",
    "from sklearn import preprocessing\n",
    "from sklearn.metrics import accuracy_score\n",
    "from sklearn.metrics import r2_score\n",
    "from sklearn.linear_model import LogisticRegression\n",
    "from sklearn.linear_model import BayesianRidge\n",
    "from sklearn.linear_model import LinearRegression\n",
    "from sklearn.preprocessing import LabelEncoder\n"
   ]
  },
  {
   "cell_type": "code",
   "execution_count": 126,
   "metadata": {},
   "outputs": [],
   "source": [
    "# load in the features\n",
    "features_train = np.array([])\n",
    "for file in os.listdir('features_train'):\n",
    "    with open('features_train/' + file) as f:\n",
    "        df = pd.read_csv(f)\n",
    "        features_train = np.column_stack((features_train, df.values)) if features_train.size else df.values\n",
    "\n",
    "# load the labels\n",
    "train = pd.read_csv('train.csv')\n",
    "y_train = train['Genre']\n",
    "label_encoder = LabelEncoder()\n",
    "y_train = label_encoder.fit_transform(y_train)\n",
    "# normalize the data\n",
    "features_train = preprocessing.scale(features_train)"
   ]
  },
  {
   "cell_type": "markdown",
   "metadata": {},
   "source": [
    "# Load in test Data\n"
   ]
  },
  {
   "cell_type": "code",
   "execution_count": 130,
   "metadata": {},
   "outputs": [],
   "source": [
    "features_test = np.array([])\n",
    "for file in os.listdir('features_test'):\n",
    "    with open('features_test/' + file) as f:\n",
    "        df = pd.read_csv(f)\n",
    "        features_test = np.column_stack((features_test, df.values)) if features_test.size else df.values\n",
    "\n",
    "# scale the test data\n",
    "features_test = preprocessing.scale(features_test)\n"
   ]
  },
  {
   "cell_type": "markdown",
   "metadata": {},
   "source": [
    "# Logistic Regression"
   ]
  },
  {
   "cell_type": "code",
   "execution_count": 128,
   "metadata": {},
   "outputs": [
    {
     "name": "stdout",
     "output_type": "stream",
     "text": [
      "Logistic Regression accuracy: 0.8075\n"
     ]
    }
   ],
   "source": [
    "\n",
    "logreg = LogisticRegression(max_iter=150)\n",
    "logreg.fit(features_train, y_train)\n",
    "predictions = logreg.predict(features_train)\n",
    "# Calculate the accuracy\n",
    "accuracy = accuracy_score(y_train, predictions)\n",
    "print(\"Logistic Regression accuracy:\", accuracy)\n"
   ]
  },
  {
   "cell_type": "markdown",
   "metadata": {},
   "source": [
    "# Predict with Logistic Regression and save to CSV"
   ]
  },
  {
   "cell_type": "code",
   "execution_count": 133,
   "metadata": {},
   "outputs": [],
   "source": [
    "\n",
    "# run the model on the test data\n",
    "predictions = logreg.predict(features_test)\n",
    "predictions = label_encoder.inverse_transform(predictions)\n",
    "# save the predictions to a csv file\n",
    "df = pd.DataFrame({'ID': os.listdir('test'), 'genre': predictions})\n",
    "df.to_csv('predictions.csv', index=False)"
   ]
  },
  {
   "cell_type": "markdown",
   "metadata": {},
   "source": [
    "# Neural Network"
   ]
  },
  {
   "cell_type": "code",
   "execution_count": 139,
   "metadata": {},
   "outputs": [
    {
     "name": "stdout",
     "output_type": "stream",
     "text": [
      "Epoch 1/40\n"
     ]
    },
    {
     "name": "stdout",
     "output_type": "stream",
     "text": [
      "40/40 [==============================] - 1s 2ms/step - loss: 3.1983 - accuracy: 0.1775\n",
      "Epoch 2/40\n",
      "40/40 [==============================] - 0s 2ms/step - loss: 2.2777 - accuracy: 0.3587\n",
      "Epoch 3/40\n",
      "40/40 [==============================] - 0s 2ms/step - loss: 1.6620 - accuracy: 0.4375\n",
      "Epoch 4/40\n",
      "40/40 [==============================] - 0s 2ms/step - loss: 1.4048 - accuracy: 0.4988\n",
      "Epoch 5/40\n",
      "40/40 [==============================] - 0s 1ms/step - loss: 1.2746 - accuracy: 0.5575\n",
      "Epoch 6/40\n",
      "40/40 [==============================] - 0s 2ms/step - loss: 1.1772 - accuracy: 0.5825\n",
      "Epoch 7/40\n",
      "40/40 [==============================] - 0s 1ms/step - loss: 1.1070 - accuracy: 0.6050\n",
      "Epoch 8/40\n",
      "40/40 [==============================] - 0s 2ms/step - loss: 1.0557 - accuracy: 0.6200\n",
      "Epoch 9/40\n",
      "40/40 [==============================] - 0s 2ms/step - loss: 0.9991 - accuracy: 0.6363\n",
      "Epoch 10/40\n",
      "40/40 [==============================] - 0s 2ms/step - loss: 0.9579 - accuracy: 0.6550\n",
      "Epoch 11/40\n",
      "40/40 [==============================] - 0s 2ms/step - loss: 0.9264 - accuracy: 0.6612\n",
      "Epoch 12/40\n",
      "40/40 [==============================] - 0s 2ms/step - loss: 0.8893 - accuracy: 0.6913\n",
      "Epoch 13/40\n",
      "40/40 [==============================] - 0s 2ms/step - loss: 0.8673 - accuracy: 0.6938\n",
      "Epoch 14/40\n",
      "40/40 [==============================] - 0s 2ms/step - loss: 0.8364 - accuracy: 0.7050\n",
      "Epoch 15/40\n",
      "40/40 [==============================] - 0s 2ms/step - loss: 0.8128 - accuracy: 0.7150\n",
      "Epoch 16/40\n",
      "40/40 [==============================] - 0s 2ms/step - loss: 0.7949 - accuracy: 0.7163\n",
      "Epoch 17/40\n",
      "40/40 [==============================] - 0s 2ms/step - loss: 0.7761 - accuracy: 0.7262\n",
      "Epoch 18/40\n",
      "40/40 [==============================] - 0s 2ms/step - loss: 0.7520 - accuracy: 0.7337\n",
      "Epoch 19/40\n",
      "40/40 [==============================] - 0s 2ms/step - loss: 0.7409 - accuracy: 0.7450\n",
      "Epoch 20/40\n",
      "40/40 [==============================] - 0s 2ms/step - loss: 0.7220 - accuracy: 0.7550\n",
      "Epoch 21/40\n",
      "40/40 [==============================] - 0s 2ms/step - loss: 0.7090 - accuracy: 0.7513\n",
      "Epoch 22/40\n",
      "40/40 [==============================] - 0s 2ms/step - loss: 0.6891 - accuracy: 0.7613\n",
      "Epoch 23/40\n",
      "40/40 [==============================] - 0s 2ms/step - loss: 0.6765 - accuracy: 0.7688\n",
      "Epoch 24/40\n",
      "40/40 [==============================] - 0s 2ms/step - loss: 0.6628 - accuracy: 0.7725\n",
      "Epoch 25/40\n",
      "40/40 [==============================] - 0s 2ms/step - loss: 0.6490 - accuracy: 0.7775\n",
      "Epoch 26/40\n",
      "40/40 [==============================] - 0s 2ms/step - loss: 0.6462 - accuracy: 0.7788\n",
      "Epoch 27/40\n",
      "40/40 [==============================] - 0s 2ms/step - loss: 0.6271 - accuracy: 0.7950\n",
      "Epoch 28/40\n",
      "40/40 [==============================] - 0s 2ms/step - loss: 0.6171 - accuracy: 0.7925\n",
      "Epoch 29/40\n",
      "40/40 [==============================] - 0s 2ms/step - loss: 0.5992 - accuracy: 0.8000\n",
      "Epoch 30/40\n",
      "40/40 [==============================] - 0s 2ms/step - loss: 0.5881 - accuracy: 0.8075\n",
      "Epoch 31/40\n",
      "40/40 [==============================] - 0s 2ms/step - loss: 0.5795 - accuracy: 0.8050\n",
      "Epoch 32/40\n",
      "40/40 [==============================] - 0s 3ms/step - loss: 0.5691 - accuracy: 0.8050\n",
      "Epoch 33/40\n",
      "40/40 [==============================] - 0s 3ms/step - loss: 0.5612 - accuracy: 0.8138\n",
      "Epoch 34/40\n",
      "40/40 [==============================] - 0s 2ms/step - loss: 0.5503 - accuracy: 0.8112\n",
      "Epoch 35/40\n",
      "40/40 [==============================] - 0s 2ms/step - loss: 0.5400 - accuracy: 0.8213\n",
      "Epoch 36/40\n",
      "40/40 [==============================] - 0s 2ms/step - loss: 0.5301 - accuracy: 0.8225\n",
      "Epoch 37/40\n",
      "40/40 [==============================] - 0s 2ms/step - loss: 0.5197 - accuracy: 0.8300\n",
      "Epoch 38/40\n",
      "40/40 [==============================] - 0s 2ms/step - loss: 0.5145 - accuracy: 0.8275\n",
      "Epoch 39/40\n",
      "40/40 [==============================] - 0s 2ms/step - loss: 0.5038 - accuracy: 0.8300\n",
      "Epoch 40/40\n",
      "40/40 [==============================] - 0s 2ms/step - loss: 0.4925 - accuracy: 0.8338\n",
      "25/25 [==============================] - 0s 2ms/step - loss: 0.4783 - accuracy: 0.8537\n",
      "Neural Network accuracy: 0.8537499904632568\n"
     ]
    }
   ],
   "source": [
    "from tensorflow.keras.models import Sequential\n",
    "from tensorflow.keras.layers import Dense\n",
    "\n",
    "model = Sequential()\n",
    "model.add(Dense(36, activation='relu', input_shape = (36,)))\n",
    "\n",
    "model.add(Dense(36, activation='relu'))\n",
    "\n",
    "model.add(Dense(36, activation='softmax'))\n",
    "\n",
    "model.compile(optimizer='adam', loss='sparse_categorical_crossentropy', metrics=['accuracy'])\n",
    "\n",
    "model.fit(features_train, y_train, epochs=40, batch_size=20)\n",
    "\n",
    "loss, accuracy = model.evaluate(features_train, y_train)\n",
    "print('Neural Network accuracy:', accuracy)"
   ]
  },
  {
   "cell_type": "markdown",
   "metadata": {},
   "source": [
    "# Predict with Neural Network and save to CSV"
   ]
  },
  {
   "cell_type": "code",
   "execution_count": 140,
   "metadata": {},
   "outputs": [
    {
     "name": "stdout",
     "output_type": "stream",
     "text": [
      "7/7 [==============================] - 0s 0s/step\n"
     ]
    }
   ],
   "source": [
    "predictions = model.predict(features_test)\n",
    "predictions = np.argmax(predictions, axis=1)\n",
    "predictions = label_encoder.inverse_transform(predictions)\n",
    "\n",
    "\n",
    "df = pd.DataFrame({'ID': os.listdir('test'), 'genre': predictions})\n",
    "df.to_csv('predictions.csv', index=False)"
   ]
  }
 ],
 "metadata": {
  "kernelspec": {
   "display_name": "Python 3",
   "language": "python",
   "name": "python3"
  },
  "language_info": {
   "codemirror_mode": {
    "name": "ipython",
    "version": 3
   },
   "file_extension": ".py",
   "mimetype": "text/x-python",
   "name": "python",
   "nbconvert_exporter": "python",
   "pygments_lexer": "ipython3",
   "version": "3.11.9"
  }
 },
 "nbformat": 4,
 "nbformat_minor": 2
}
